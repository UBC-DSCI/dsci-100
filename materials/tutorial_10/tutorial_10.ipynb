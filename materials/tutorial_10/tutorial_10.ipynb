{
 "cells": [
  {
   "cell_type": "markdown",
   "metadata": {
    "deletable": false,
    "editable": false,
    "nbgrader": {
     "cell_type": "markdown",
     "checksum": "5882c8933e116e76c2e64c3681625313",
     "grade": false,
     "grade_id": "cell-db663b302824cd7d",
     "locked": true,
     "schema_version": 3,
     "solution": false,
     "task": false
    }
   },
   "source": [
    "# Tutorial 10 - Clustering\n",
    "\n",
    "### Lecture and Tutorial Learning Goals:\n",
    "\n",
    "After completing this week's lecture and tutorial work, you will be able to:\n",
    "\n",
    "* Describe a case where clustering would be an appropriate tool, and what insight it would bring from the data.\n",
    "* Explain the k-means clustering algorithm.\n",
    "* Interpret the output of a k-means cluster analysis.\n",
    "* Perform k-means clustering in R using `k-means`\n",
    "* Visualize the output of k-means clustering in R using a coloured scatter plot \n",
    "* Identify when it is necessary to scale variables before clustering and do this using R\n",
    "* Use the elbow method to choose the number of clusters for k-means\n",
    "* Describe advantages, limitations and assumptions of the kmeans clustering algorithm."
   ]
  },
  {
   "cell_type": "code",
   "execution_count": null,
   "metadata": {
    "deletable": false,
    "editable": false,
    "nbgrader": {
     "cell_type": "code",
     "checksum": "f276f8a1fecd9e478e0aeb8433d37f8f",
     "grade": false,
     "grade_id": "cell-ba8a0ce0b51b8fde",
     "locked": true,
     "schema_version": 3,
     "solution": false,
     "task": false
    }
   },
   "outputs": [],
   "source": [
    "### Run this cell before continuing.\n",
    "library(tidyverse)\n",
    "library(repr)\n",
    "library(GGally)\n",
    "library(broom)\n",
    "options(repr.matrix.max.rows = 6)\n",
    "source('tests_tutorial_10.R')\n",
    "source(\"cleanup_tutorial_10.R\")"
   ]
  },
  {
   "cell_type": "markdown",
   "metadata": {
    "deletable": false,
    "editable": false,
    "nbgrader": {
     "cell_type": "markdown",
     "checksum": "8ea2604c66051b318576c2ff2ed9c669",
     "grade": false,
     "grade_id": "cell-335e796389da4d08",
     "locked": true,
     "schema_version": 3,
     "solution": false,
     "task": false
    }
   },
   "source": [
    "# 1. Pokemon\n",
    "\n",
    "We will be working with the Pokemon dataset from Kaggle, which can be found [here.](https://www.kaggle.com/abcsds/pokemon)\n",
    "This dataset compiles the statistics on 721 Pokemon. The information in this dataset includes Pokemon name, type, health points, attack strength, defensive strength, speed points etc. These are values that apply to a Pokemon's abilities (higher values are better). We are interested in seeing if there are any sub-groups/clusters of pokemon based on these statistics. And if so, how many sub-groups/clusters there are.\n",
    "\n",
    "![](https://media.giphy.com/media/3oEduV4SOS9mmmIOkw/giphy.gif)\n",
    "\n",
    "Source: https://media.giphy.com/media/3oEduV4SOS9mmmIOkw/giphy.gif\n"
   ]
  },
  {
   "cell_type": "markdown",
   "metadata": {
    "deletable": false,
    "editable": false,
    "nbgrader": {
     "cell_type": "markdown",
     "checksum": "83e08397761f8ac774ef7b93c5e79fa3",
     "grade": false,
     "grade_id": "cell-3a7fda306bcdb24f",
     "locked": true,
     "schema_version": 3,
     "solution": false,
     "task": false
    }
   },
   "source": [
    "**Question 1.0**\n",
    "<br> {points: 1}\n",
    "\n",
    "Use `read_csv` to load `pokemon.csv` from the `data/` folder.\n",
    "\n",
    "*Assign your answer to an object called `pm_data`.*"
   ]
  },
  {
   "cell_type": "code",
   "execution_count": null,
   "metadata": {
    "deletable": false,
    "nbgrader": {
     "cell_type": "code",
     "checksum": "9b630c1ff6f0229fb644e214564aaac4",
     "grade": false,
     "grade_id": "cell-93b37b4e6bdc331a",
     "locked": false,
     "schema_version": 3,
     "solution": true
    }
   },
   "outputs": [],
   "source": [
    "# your code here\n",
    "fail() # No Answer - remove if you provide an answer\n",
    "pm_data"
   ]
  },
  {
   "cell_type": "code",
   "execution_count": null,
   "metadata": {
    "deletable": false,
    "editable": false,
    "nbgrader": {
     "cell_type": "code",
     "checksum": "6de25f9b3ba8ba8ec1c545e8f1a21c94",
     "grade": true,
     "grade_id": "cell-56bc2b189beffa61",
     "locked": true,
     "points": 1,
     "schema_version": 3,
     "solution": false
    }
   },
   "outputs": [],
   "source": [
    "test_1.0()"
   ]
  },
  {
   "cell_type": "markdown",
   "metadata": {
    "deletable": false,
    "editable": false,
    "nbgrader": {
     "cell_type": "markdown",
     "checksum": "b9e41f9f72e2aae6d444a07183f6cc23",
     "grade": false,
     "grade_id": "cell-8b5b24126c2e31c8",
     "locked": true,
     "schema_version": 3,
     "solution": false,
     "task": false
    }
   },
   "source": [
    "**Question 1.1**\n",
    "<br> {points: 1}\n",
    "\n",
    "Create a matrix of plots using `ggpairs`, choosing columns 5 to 11 (or equivalently, columns `Total` to `Speed`) from `pm_data`. First use the `select` function to extract columns `\"Total\":\"Speed\"`, and then pass the resulting dataframe to `ggpairs` to plot.\n",
    "\n",
    "*Assign your answer to an object called `pm_pairs`.*"
   ]
  },
  {
   "cell_type": "code",
   "execution_count": null,
   "metadata": {
    "deletable": false,
    "nbgrader": {
     "cell_type": "code",
     "checksum": "2d2b46d54ff5096925dec0a0af5b345e",
     "grade": false,
     "grade_id": "cell-99f98d1dbb944409",
     "locked": false,
     "schema_version": 3,
     "solution": true
    }
   },
   "outputs": [],
   "source": [
    "# your code here\n",
    "fail() # No Answer - remove if you provide an answer\n",
    "pm_pairs"
   ]
  },
  {
   "cell_type": "code",
   "execution_count": null,
   "metadata": {
    "deletable": false,
    "editable": false,
    "nbgrader": {
     "cell_type": "code",
     "checksum": "4b90579a3c7a28dde9b6e0b85aaf3091",
     "grade": true,
     "grade_id": "cell-4a0f59f0f380baad",
     "locked": true,
     "points": 1,
     "schema_version": 3,
     "solution": false
    }
   },
   "outputs": [],
   "source": [
    "test_1.1()"
   ]
  },
  {
   "cell_type": "markdown",
   "metadata": {
    "deletable": false,
    "editable": false,
    "nbgrader": {
     "cell_type": "markdown",
     "checksum": "07b9a2dedba926400759092533689071",
     "grade": false,
     "grade_id": "cell-06840762f3593761",
     "locked": true,
     "schema_version": 3,
     "solution": false,
     "task": false
    }
   },
   "source": [
    "**Question 1.2** \n",
    "<br> {points: 1}\n",
    "\n",
    "Select the columns `Speed` and `Defense`, creating a new dataframe with only those columns.\n",
    "\n",
    "*Assign your answer to an object named `km_data`.*"
   ]
  },
  {
   "cell_type": "code",
   "execution_count": null,
   "metadata": {
    "deletable": false,
    "nbgrader": {
     "cell_type": "code",
     "checksum": "dbb90db135bae104b6071858d472e65f",
     "grade": false,
     "grade_id": "cell-de22d18cc98375ce",
     "locked": false,
     "schema_version": 3,
     "solution": true
    }
   },
   "outputs": [],
   "source": [
    "# your code here\n",
    "fail() # No Answer - remove if you provide an answer\n",
    "km_data"
   ]
  },
  {
   "cell_type": "code",
   "execution_count": null,
   "metadata": {
    "deletable": false,
    "editable": false,
    "nbgrader": {
     "cell_type": "code",
     "checksum": "699abe648b76610ecd9f6e2a88f75fb0",
     "grade": true,
     "grade_id": "cell-b62427bf6857eae0",
     "locked": true,
     "points": 1,
     "schema_version": 3,
     "solution": false
    }
   },
   "outputs": [],
   "source": [
    "test_1.2()"
   ]
  },
  {
   "cell_type": "markdown",
   "metadata": {
    "deletable": false,
    "editable": false,
    "nbgrader": {
     "cell_type": "markdown",
     "checksum": "41d41ebc3b23187069bf0d948ea1a3ea",
     "grade": false,
     "grade_id": "cell-00594a9799b8a20c",
     "locked": true,
     "schema_version": 3,
     "solution": false,
     "task": false
    }
   },
   "source": [
    "**Question 1.3**\n",
    "<br> {points: 1}\n",
    "\n",
    "Make a scatterplot to visualize the relationship between `Speed` and `Defense` of the Pokemon. Put the `Speed` variable on the x-axis, and the `Defense` variable on the y-axis.\n",
    "\n",
    "*Assign your plot to an object called `pm_scatter`. Don't forget to do everything needed to make an effective visualization.*"
   ]
  },
  {
   "cell_type": "code",
   "execution_count": null,
   "metadata": {
    "deletable": false,
    "nbgrader": {
     "cell_type": "code",
     "checksum": "8466dc87eafe8bab91b8637796b2bdc7",
     "grade": false,
     "grade_id": "cell-8ff6e2b975075cae",
     "locked": false,
     "schema_version": 3,
     "solution": true
    }
   },
   "outputs": [],
   "source": [
    "# your code here\n",
    "fail() # No Answer - remove if you provide an answer\n",
    "pm_scatter"
   ]
  },
  {
   "cell_type": "code",
   "execution_count": null,
   "metadata": {
    "deletable": false,
    "editable": false,
    "nbgrader": {
     "cell_type": "code",
     "checksum": "5b5d18a7190d252ca460c8617055f7d8",
     "grade": true,
     "grade_id": "cell-1b9d09e256e4b281",
     "locked": true,
     "points": 1,
     "schema_version": 3,
     "solution": false
    }
   },
   "outputs": [],
   "source": [
    "test_1.3()"
   ]
  },
  {
   "cell_type": "markdown",
   "metadata": {
    "deletable": false,
    "editable": false,
    "nbgrader": {
     "cell_type": "markdown",
     "checksum": "a00bd95050bebed1dd48eb5eaa540d17",
     "grade": false,
     "grade_id": "cell-e283e593af5c7ab9",
     "locked": true,
     "schema_version": 3,
     "solution": false,
     "task": false
    }
   },
   "source": [
    "**Question 1.4.1** \n",
    "<br> {points: 3}\n",
    "\n",
    "We are going to cluster the Pokemon based on their `Speed` and `Defense`. Will it matter much for our clustering if we scale our variables? Is there any argument against scaling here?"
   ]
  },
  {
   "cell_type": "markdown",
   "metadata": {
    "deletable": false,
    "nbgrader": {
     "cell_type": "markdown",
     "checksum": "fdf9906c600ed77e3b49a219c8d8dadb",
     "grade": true,
     "grade_id": "cell-edacf7e978d30e23",
     "locked": false,
     "points": 3,
     "schema_version": 3,
     "solution": true,
     "task": false
    }
   },
   "source": [
    "DOUBLE CLICK TO EDIT **THIS CELL** AND REPLACE THIS TEXT WITH YOUR ANSWER."
   ]
  },
  {
   "cell_type": "markdown",
   "metadata": {
    "deletable": false,
    "editable": false,
    "nbgrader": {
     "cell_type": "markdown",
     "checksum": "2043901a1b449429be4d712752969fa6",
     "grade": false,
     "grade_id": "cell-2eeb002c9e35f5a9",
     "locked": true,
     "schema_version": 3,
     "solution": false,
     "task": false
    }
   },
   "source": [
    "**Question 1.4.2**\n",
    "<br> {points: 1}\n",
    "\n",
    "Now, let's use the `kmeans` function to cluster the Pokemon based on their `Speed` and `Defense` variables. For this question, use $k$ = 4. As good practice, let's standardize the data here first using `scale`. Name the standardized data `scaled_km_data`.\n",
    "\n",
    "*Assign your answer to an object called `pokemon_clusters`.*\n",
    "\n",
    "**Note:** We set the random seed here because `kmeans` initializes observations to random clusters."
   ]
  },
  {
   "cell_type": "code",
   "execution_count": null,
   "metadata": {
    "deletable": false,
    "nbgrader": {
     "cell_type": "code",
     "checksum": "74e0aa2e3635590f9277f85a5d637763",
     "grade": false,
     "grade_id": "cell-c065f6a8d813ae2e",
     "locked": false,
     "schema_version": 3,
     "solution": true
    }
   },
   "outputs": [],
   "source": [
    "#DON'T CHANGE THE SEED VALUE BELOW!\n",
    "set.seed(2019)\n",
    "\n",
    "# your code here\n",
    "fail() # No Answer - remove if you provide an answer\n",
    "pokemon_clusters"
   ]
  },
  {
   "cell_type": "code",
   "execution_count": null,
   "metadata": {
    "deletable": false,
    "editable": false,
    "nbgrader": {
     "cell_type": "code",
     "checksum": "b20968eb46b2407563b2f085976828b0",
     "grade": true,
     "grade_id": "cell-b899d544a0fec2ea",
     "locked": true,
     "points": 1,
     "schema_version": 3,
     "solution": false
    }
   },
   "outputs": [],
   "source": [
    "test_1.4.2()"
   ]
  },
  {
   "cell_type": "markdown",
   "metadata": {
    "deletable": false,
    "editable": false,
    "nbgrader": {
     "cell_type": "markdown",
     "checksum": "7d99a359af13eb7571e56fbfbaa0bc2e",
     "grade": false,
     "grade_id": "cell-1b5587eac432619f",
     "locked": true,
     "schema_version": 3,
     "solution": false
    }
   },
   "source": [
    "**Question 1.5**\n",
    "<br> {points: 1}\n",
    "\n",
    "Let's visualize the clusters we built in `pokemon_clusters`. For this we can use the `broom` package.\n",
    "\n",
    "> \"The broom package takes the messy output of built-in functions in R, such as lm, nls, or t.test, and turns them into tidy data frames.\" - [Broom Package](https://cran.r-project.org/web/packages/broom/vignettes/broom.html)\n",
    "\n",
    "Your tasks:\n",
    "\n",
    "1. Use the `augment` function create a data frame with the cluster assignments for each data point from k-means (should have the columns `Speed` and `Defense` and `.cluster`). \n",
    "2. Create a scatter plot of `Speed` (x-axis) vs `Defense` (y-axis) with the points coloured by their cluster assignment. \n",
    "\n",
    "Name this plot `answer1.5`."
   ]
  },
  {
   "cell_type": "code",
   "execution_count": null,
   "metadata": {
    "deletable": false,
    "nbgrader": {
     "cell_type": "code",
     "checksum": "be0e85377f1fdfda3856d3a1f63c3536",
     "grade": false,
     "grade_id": "cell-bed28462923104b0",
     "locked": false,
     "schema_version": 3,
     "solution": true
    }
   },
   "outputs": [],
   "source": [
    "# your code here\n",
    "fail() # No Answer - remove if you provide an answer\n",
    "answer1.5"
   ]
  },
  {
   "cell_type": "code",
   "execution_count": null,
   "metadata": {
    "deletable": false,
    "editable": false,
    "nbgrader": {
     "cell_type": "code",
     "checksum": "cd6ac26c2cfd722bc99754765e9cd022",
     "grade": true,
     "grade_id": "cell-2d872f629c06cf4d",
     "locked": true,
     "points": 1,
     "schema_version": 3,
     "solution": false
    }
   },
   "outputs": [],
   "source": [
    "test_1.5()"
   ]
  },
  {
   "cell_type": "markdown",
   "metadata": {
    "deletable": false,
    "editable": false,
    "nbgrader": {
     "cell_type": "markdown",
     "checksum": "57671f378516bb26cbe062eb4c00024b",
     "grade": false,
     "grade_id": "cell-537761aa7301039a",
     "locked": true,
     "schema_version": 3,
     "solution": false
    }
   },
   "source": [
    "**Question 1.6**\n",
    "<br> {points: 3}\n",
    "\n",
    "Below you can see multiple initializations of k-means with different seeds for `K = 4`. Can you explain what is happening and how we can mitigate this in the `kmeans` function?\n",
    "\n",
    "![](imgs/multiple_initializations.png)"
   ]
  },
  {
   "cell_type": "markdown",
   "metadata": {
    "deletable": false,
    "nbgrader": {
     "cell_type": "markdown",
     "checksum": "11921da8ca218b0a0c2a8a84906a03b8",
     "grade": true,
     "grade_id": "cell-244a33f66284ac74",
     "locked": false,
     "points": 3,
     "schema_version": 3,
     "solution": true,
     "task": false
    }
   },
   "source": [
    "DOUBLE CLICK TO EDIT **THIS CELL** AND REPLACE THIS TEXT WITH YOUR ANSWER."
   ]
  },
  {
   "cell_type": "markdown",
   "metadata": {
    "deletable": false,
    "editable": false,
    "nbgrader": {
     "cell_type": "markdown",
     "checksum": "e15af272ef853080d1bc660748ea5d22",
     "grade": false,
     "grade_id": "cell-7ad1ae102f2183fb",
     "locked": true,
     "schema_version": 3,
     "solution": false
    }
   },
   "source": [
    "**Question 1.7**\n",
    "<br> {points: 1}\n",
    "\n",
    "We know that choosing a $k$ is an important step of the process. We can do this by examining how the total within-cluster sum of squares changes as we change $k$ on a plot (which we call an elbow plot).\n",
    "\n",
    "For this exercise, from $k$ = 1 to $k$ = 10, you will calculate the total within-cluster sum of squares:\n",
    "\n",
    "1. following good practice, make sure you are using the standardized data (`scaled_km_data`)\n",
    "2. create a tibble with the $k$ values\n",
    "3. create a new column `poke_clusts` by applying `kmeans` to each value of `k` (set `nstart` to be 10)\n",
    "4. create a new column `glanced` by applying `glance` to each of the results\n",
    "5. remove the `poke_clusts` column\n",
    "6. `unnest` the results of `glance`\n",
    "\n",
    "\n",
    "*Assign your answer to a tibble object named `elbow_stats`. It should have the columns `k`, `totss`, `tot.withinss`, `betweenss`, and `iter`.*"
   ]
  },
  {
   "cell_type": "markdown",
   "metadata": {
    "deletable": false,
    "editable": false,
    "nbgrader": {
     "cell_type": "markdown",
     "checksum": "73c9193499601b3e8d5e8f58e85c7234",
     "grade": false,
     "grade_id": "cell-152c74d109a589d5",
     "locked": true,
     "schema_version": 3,
     "solution": false,
     "task": false
    }
   },
   "source": [
    "Remember, to acess the  total within-cluster sum of squares, you can use the `glance` function also from the `broom` package:"
   ]
  },
  {
   "cell_type": "code",
   "execution_count": null,
   "metadata": {
    "deletable": false,
    "editable": false,
    "nbgrader": {
     "cell_type": "code",
     "checksum": "22d9cf0b6459d11c95036347985c84f3",
     "grade": false,
     "grade_id": "cell-4f5b66a017ecd299",
     "locked": true,
     "schema_version": 3,
     "solution": false,
     "task": false
    }
   },
   "outputs": [],
   "source": [
    "glance(pokemon_clusters)"
   ]
  },
  {
   "cell_type": "code",
   "execution_count": null,
   "metadata": {
    "deletable": false,
    "nbgrader": {
     "cell_type": "code",
     "checksum": "90c247083d99282b4c34a940bddfbc79",
     "grade": false,
     "grade_id": "cell-60b7743cfe0290e1",
     "locked": false,
     "schema_version": 3,
     "solution": true
    }
   },
   "outputs": [],
   "source": [
    "set.seed(2020) # DO NOT REMOVE\n",
    "\n",
    "# your code here\n",
    "fail() # No Answer - remove if you provide an answer\n",
    "elbow_stats"
   ]
  },
  {
   "cell_type": "code",
   "execution_count": null,
   "metadata": {
    "deletable": false,
    "editable": false,
    "nbgrader": {
     "cell_type": "code",
     "checksum": "db87cb856cfd1d9646a1d095f02d57fd",
     "grade": true,
     "grade_id": "cell-4431d9afb3d2822e",
     "locked": true,
     "points": 1,
     "schema_version": 3,
     "solution": false
    }
   },
   "outputs": [],
   "source": [
    "test_1.7()"
   ]
  },
  {
   "cell_type": "markdown",
   "metadata": {
    "deletable": false,
    "editable": false,
    "nbgrader": {
     "cell_type": "markdown",
     "checksum": "416b8d1a94769024852791f77b1711a0",
     "grade": false,
     "grade_id": "cell-18ab6b21c8994c5c",
     "locked": true,
     "schema_version": 3,
     "solution": false,
     "task": false
    }
   },
   "source": [
    "**Question 1.8**\n",
    "<br> {points: 1}\n",
    "\n",
    "Create the elbow plot. Put the within-cluster sum of squares on the y-axis, and the number of clusters on the x-axis.\n",
    "\n",
    "*Assign your plot to an object called `elbow_plot`*."
   ]
  },
  {
   "cell_type": "code",
   "execution_count": null,
   "metadata": {
    "deletable": false,
    "nbgrader": {
     "cell_type": "code",
     "checksum": "890029f2bbdb762a06c4e89d6c81791a",
     "grade": false,
     "grade_id": "cell-d5d5b23dd3820676",
     "locked": false,
     "schema_version": 3,
     "solution": true,
     "task": false
    }
   },
   "outputs": [],
   "source": [
    "# your code here\n",
    "fail() # No Answer - remove if you provide an answer\n",
    "elbow_plot"
   ]
  },
  {
   "cell_type": "code",
   "execution_count": null,
   "metadata": {
    "deletable": false,
    "editable": false,
    "nbgrader": {
     "cell_type": "code",
     "checksum": "e9b01c1c3988320ecdfa8bcaf5e6d2d5",
     "grade": true,
     "grade_id": "cell-9be55abc471b0f7f",
     "locked": true,
     "points": 1,
     "schema_version": 3,
     "solution": false,
     "task": false
    }
   },
   "outputs": [],
   "source": [
    "test_1.8()"
   ]
  },
  {
   "cell_type": "markdown",
   "metadata": {
    "deletable": false,
    "editable": false,
    "nbgrader": {
     "cell_type": "markdown",
     "checksum": "3d5c141d202913713f672a86346e6ccf",
     "grade": false,
     "grade_id": "cell-787eb51286f85008",
     "locked": true,
     "schema_version": 3,
     "solution": false,
     "task": false
    }
   },
   "source": [
    "**Question 1.9** \n",
    "<br> {points: 3}\n",
    "\n",
    "Based on the elbow plot above, what value of $k$ do you choose? Explain why."
   ]
  },
  {
   "cell_type": "markdown",
   "metadata": {
    "deletable": false,
    "nbgrader": {
     "cell_type": "markdown",
     "checksum": "64d4e5f19dfef8b23473fa8786bba00c",
     "grade": true,
     "grade_id": "cell-8199f88458fc2ba7",
     "locked": false,
     "points": 3,
     "schema_version": 3,
     "solution": true,
     "task": false
    }
   },
   "source": [
    "DOUBLE CLICK TO EDIT **THIS CELL** AND REPLACE THIS TEXT WITH YOUR ANSWER."
   ]
  },
  {
   "cell_type": "markdown",
   "metadata": {
    "deletable": false,
    "editable": false,
    "nbgrader": {
     "cell_type": "markdown",
     "checksum": "e20a6c4e5c92487257f387ce5ba4e248",
     "grade": false,
     "grade_id": "cell-fc98d19805a765de",
     "locked": true,
     "schema_version": 3,
     "solution": false,
     "task": false
    }
   },
   "source": [
    "**Question 1.10**\n",
    "<br> {points: 3}\n",
    "\n",
    "Using the value that you chose for k, perform the k-means algorithm, set `nstart = 10` and assign your answer to an object called `pokemon_final_kmeans`. \n",
    "\n",
    "Augment the data with the final cluster labels and assign your answer to an object called `pokemon_final_clusters`. \n",
    "\n",
    "Finally, create a plot called `pokemon_final_clusters_plot` to visualize the clusters. Include a title, colour the points by the cluster and make sure your axes are human-readable."
   ]
  },
  {
   "cell_type": "code",
   "execution_count": null,
   "metadata": {
    "deletable": false,
    "nbgrader": {
     "cell_type": "code",
     "checksum": "d5d5ac3f9007950e9f94c96712639375",
     "grade": true,
     "grade_id": "cell-9a4289aea99f026e",
     "locked": false,
     "points": 3,
     "schema_version": 3,
     "solution": true,
     "task": false
    }
   },
   "outputs": [],
   "source": [
    "set.seed(2019) # DO NOT REMOVE\n",
    "# your code here\n",
    "fail() # No Answer - remove if you provide an answer"
   ]
  },
  {
   "cell_type": "markdown",
   "metadata": {
    "deletable": false,
    "editable": false,
    "nbgrader": {
     "cell_type": "markdown",
     "checksum": "ab1c8cb3e8b74ef97e0519d8884323ce",
     "grade": false,
     "grade_id": "cell-7d044a1dc3af9252",
     "locked": true,
     "schema_version": 3,
     "solution": false,
     "task": false
    }
   },
   "source": [
    "**Question 1.11**\n",
    "<br> {points: 3}\n",
    "\n",
    "Using `Speed` and `Defense`, we find some number of clusters in our data. However, we have more information in our dataset that might be useful for clustering. Let's incorporate all of the numeric values to our k-means model. Again use `nstart = 10`.\n",
    "\n",
    "Your tasks:\n",
    "\n",
    "1. Select the numeric type columns only from the full data set `pm_data`. For example, do not include the `#` or `Generation`  columns etc. Assign your answer to an object called `pm_multi`.\n",
    "2. Standardize the columns in `pm_multi` using `scale`.\n",
    "2. From K = 1 to K = 10, calculate the total within-cluster sum of squares. Set `nstart` to be 10. Assign your answer to an object called `pm_multi_elbow_stats`. \n",
    "3. Use the elbow plot method to determine the number of clusters. Assign your answer to an object called `pm_multi_elbow_plot`.\n",
    "4. Train a k-means model with the number of clusters determined in above. Assign your answer to an object called `multi_kmeans`. \n",
    "5. Print the cluster means for the trained model."
   ]
  },
  {
   "cell_type": "code",
   "execution_count": null,
   "metadata": {
    "deletable": false,
    "nbgrader": {
     "cell_type": "code",
     "checksum": "f1208ecf41b2f8f4397d70e89750d856",
     "grade": true,
     "grade_id": "cell-2e4a3de98096ebd2",
     "locked": false,
     "points": 3,
     "schema_version": 3,
     "solution": true,
     "task": false
    }
   },
   "outputs": [],
   "source": [
    "#DON'T CHANGE THIS SEED VALUE\n",
    "set.seed(2019)\n",
    "\n",
    "# your code here\n",
    "fail() # No Answer - remove if you provide an answer"
   ]
  },
  {
   "cell_type": "markdown",
   "metadata": {
    "deletable": false,
    "editable": false,
    "nbgrader": {
     "cell_type": "markdown",
     "checksum": "2f2e228bd51a6576294ae3c6982f8d7e",
     "grade": false,
     "grade_id": "cell-1c2a9fd0cbe15c51",
     "locked": true,
     "schema_version": 3,
     "solution": false
    }
   },
   "source": [
    "**Question 1.12** \n",
    "<br> {points: 3}\n",
    "\n",
    "Visualizing these clusters is not a simple task given the high-dimensionality of the model. But do the cluster means output help? Justify your reasoning."
   ]
  },
  {
   "cell_type": "markdown",
   "metadata": {
    "deletable": false,
    "nbgrader": {
     "cell_type": "markdown",
     "checksum": "c08b1790a11791258131c386fbfd8f04",
     "grade": true,
     "grade_id": "cell-ea2917d4de4ef732",
     "locked": false,
     "points": 3,
     "schema_version": 3,
     "solution": true,
     "task": false
    }
   },
   "source": [
    "DOUBLE CLICK TO EDIT **THIS CELL** AND REPLACE THIS TEXT WITH YOUR ANSWER."
   ]
  },
  {
   "cell_type": "markdown",
   "metadata": {
    "deletable": false,
    "editable": false,
    "nbgrader": {
     "cell_type": "markdown",
     "checksum": "05597237f22908be2593063edb8c2735",
     "grade": false,
     "grade_id": "cell-3e931fc6c7cf17df",
     "locked": true,
     "schema_version": 3,
     "solution": false
    }
   },
   "source": [
    "# 2. Tourism Reviews\n",
    "\n",
    "![](https://media.giphy.com/media/xUNd9IsOQ4BSZPfnLG/giphy.gif)\n",
    "Source: https://media.giphy.com/media/xUNd9IsOQ4BSZPfnLG/giphy.gif\n",
    "\n",
    "The Ministry of Land, Infrastructure, Transport and Tourism of Japan is interested in knowing the type of tourists that visit East Asia. They know the [majority of their visitors come from this region](https://statistics.jnto.go.jp/en/graph/) and would like to stay competitive in the region to keep growing the tourism industry. For this, they have hired us to perform segmentation of the tourists. A [dataset from TripAdvisor](https://archive.ics.uci.edu/ml/datasets/Travel+Reviews) has been scraped and it's provided to you.\n",
    "\n",
    "This dataset contains the following variables:\n",
    "\n",
    "- User ID : Unique user id \n",
    "- Category 1 : Average user feedback on art galleries \n",
    "- Category 2 : Average user feedback on dance clubs \n",
    "- Category 3 : Average user feedback on juice bars \n",
    "- Category 4 : Average user feedback on restaurants \n",
    "- Category 5 : Average user feedback on museums \n",
    "- Category 6 : Average user feedback on resorts \n",
    "- Category 7 : Average user feedback on parks/picnic spots \n",
    "- Category 8 : Average user feedback on beaches \n",
    "- Category 9 : Average user feedback on theaters \n",
    "- Category 10 : Average user feedback on religious institutions"
   ]
  },
  {
   "cell_type": "markdown",
   "metadata": {
    "deletable": false,
    "editable": false,
    "nbgrader": {
     "cell_type": "markdown",
     "checksum": "85d8cd566b774e83a28f163506236d28",
     "grade": false,
     "grade_id": "cell-992349cc3394d79f",
     "locked": true,
     "schema_version": 3,
     "solution": false,
     "task": false
    }
   },
   "source": [
    "**Question 2.0**\n",
    "<br> {points: 3}\n",
    "\n",
    "Load the data set from https://archive.ics.uci.edu/ml/machine-learning-databases/00484/tripadvisor_review.csv and clean it so that only the Category # columns are in the data frame (i.e., remove the `User ID` column). \n",
    "\n",
    "Assign your answer to an object called `clean_reviews`."
   ]
  },
  {
   "cell_type": "code",
   "execution_count": null,
   "metadata": {
    "deletable": false,
    "nbgrader": {
     "cell_type": "code",
     "checksum": "f6da6d3384424b2f21e7d1ebee11f59b",
     "grade": false,
     "grade_id": "cell-f405eb5c11942445",
     "locked": false,
     "schema_version": 3,
     "solution": true,
     "task": false
    }
   },
   "outputs": [],
   "source": [
    "# your code here\n",
    "fail() # No Answer - remove if you provide an answer"
   ]
  },
  {
   "cell_type": "code",
   "execution_count": null,
   "metadata": {
    "deletable": false,
    "editable": false,
    "nbgrader": {
     "cell_type": "code",
     "checksum": "930b2934278853a57b46abbde6994cfb",
     "grade": true,
     "grade_id": "cell-6050fab33fa36da5",
     "locked": true,
     "points": 3,
     "schema_version": 3,
     "solution": false,
     "task": false
    }
   },
   "outputs": [],
   "source": [
    "test_that('Did not create an object called clean_reviews', {\n",
    "    expect_true(exists(\"clean_reviews\"))\n",
    "})\n",
    "# The remainder of the tests were intentionally hidden so that you can practice deciding \n",
    "# when you have the correct answer.\n"
   ]
  },
  {
   "cell_type": "markdown",
   "metadata": {
    "deletable": false,
    "editable": false,
    "nbgrader": {
     "cell_type": "markdown",
     "checksum": "95855447a371bf035e44a9af72da32dc",
     "grade": false,
     "grade_id": "cell-4b9f74303428862b",
     "locked": true,
     "schema_version": 3,
     "solution": false
    }
   },
   "source": [
    "**Question 2.1**\n",
    "<br> {points: 3}\n",
    "\n",
    "Perform k-means and vary $k$ from 1 to 10 to identify the optimal number of clusters. Use `nstart = 100`. Assign your answer to a tibble object called `elbow_stats` that has the columns `k`, `totss`, `tot.withinss`, `betweenss`, and `iter`.  \n",
    "\n",
    "Afterwards, create an elbow plot to help you choose $k$. Assign your answer to an object called `tourism_elbow_plot`."
   ]
  },
  {
   "cell_type": "code",
   "execution_count": null,
   "metadata": {
    "deletable": false,
    "nbgrader": {
     "cell_type": "code",
     "checksum": "82b2efcbba65972927071f77bb68a713",
     "grade": false,
     "grade_id": "cell-62833cac0177ae24",
     "locked": false,
     "schema_version": 3,
     "solution": true,
     "task": false
    }
   },
   "outputs": [],
   "source": [
    "#DON'T CHANGE THIS SEED VALUE\n",
    "set.seed(2019)\n",
    "\n",
    "# your code here\n",
    "fail() # No Answer - remove if you provide an answer"
   ]
  },
  {
   "cell_type": "code",
   "execution_count": null,
   "metadata": {
    "deletable": false,
    "editable": false,
    "nbgrader": {
     "cell_type": "code",
     "checksum": "52c5abf250eed61774cf66986272ad76",
     "grade": true,
     "grade_id": "cell-6606935f013bdc26",
     "locked": true,
     "points": 3,
     "schema_version": 3,
     "solution": false,
     "task": false
    }
   },
   "outputs": [],
   "source": [
    "test_that('Did not create an object called elbow_stats', {\n",
    "    expect_true(exists('elbow_stats'))\n",
    "})\n",
    "test_that('Did not create a plot called tourism_elbow_plot', {\n",
    "    expect_true(exists('tourism_elbow_plot'))\n",
    "})\n",
    "# The remainder of the tests were intentionally hidden so that you can practice deciding \n",
    "# when you have the correct answer."
   ]
  },
  {
   "cell_type": "markdown",
   "metadata": {
    "deletable": false,
    "editable": false,
    "nbgrader": {
     "cell_type": "markdown",
     "checksum": "c12865236cc17745b9e38887021ac75b",
     "grade": false,
     "grade_id": "cell-c6b0005cf3b6f5d5",
     "locked": true,
     "schema_version": 3,
     "solution": false,
     "task": false
    }
   },
   "source": [
    "**Question 2.2** \n",
    "<br> {points: 3}\n",
    "\n",
    "From the elbow plot above, which $k$ should you choose? Explain why you chose that $k$."
   ]
  },
  {
   "cell_type": "markdown",
   "metadata": {
    "deletable": false,
    "nbgrader": {
     "cell_type": "markdown",
     "checksum": "fe9647b065d7f765fce6796bbb082b4c",
     "grade": true,
     "grade_id": "cell-21a2bc8e9a46d50c",
     "locked": false,
     "points": 3,
     "schema_version": 3,
     "solution": true,
     "task": false
    }
   },
   "source": [
    "DOUBLE CLICK TO EDIT **THIS CELL** AND REPLACE THIS TEXT WITH YOUR ANSWER."
   ]
  },
  {
   "cell_type": "markdown",
   "metadata": {
    "deletable": false,
    "editable": false,
    "nbgrader": {
     "cell_type": "markdown",
     "checksum": "ff616935ca78c419a9e982f1856dc6d9",
     "grade": false,
     "grade_id": "cell-10b5cae4c72389b8",
     "locked": true,
     "schema_version": 3,
     "solution": false
    }
   },
   "source": [
    "**Question 2.3**\n",
    "<br> {points: 3}\n",
    "\n",
    "Run kmeans again, with the optimal $k$, and assign your answer to an object called `reviews_clusters`. Use `nstart = 100`. Then, use the `augment` function to get the cluster assignments for each point. Name the data frame `cluster_assignments`."
   ]
  },
  {
   "cell_type": "code",
   "execution_count": null,
   "metadata": {
    "deletable": false,
    "nbgrader": {
     "cell_type": "code",
     "checksum": "975b7a0421d31951cad7cdc518b5d81a",
     "grade": true,
     "grade_id": "cell-1ac55da2934ef5f6",
     "locked": false,
     "points": 3,
     "schema_version": 3,
     "solution": true,
     "task": false
    }
   },
   "outputs": [],
   "source": [
    "#DONT CHANGE THIS SEED VALUE\n",
    "set.seed(2019)\n",
    "\n",
    "# your code here\n",
    "fail() # No Answer - remove if you provide an answer"
   ]
  },
  {
   "cell_type": "markdown",
   "metadata": {
    "deletable": false,
    "editable": false,
    "nbgrader": {
     "cell_type": "markdown",
     "checksum": "67fdca23d4559c3dfbdf81661bc732b3",
     "grade": false,
     "grade_id": "cell-151f7ff6a6ca3b1e",
     "locked": true,
     "schema_version": 3,
     "solution": false,
     "task": false
    }
   },
   "source": [
    "For the following 2 questions use the following plot as reference. \n",
    "\n",
    "> The visualization below is a density plot, you can think of it as a smoothed version of a histogram. Density plots are more effective for comparing multiple distributions. What we are looking for with these visualizations, is to see which variables have difference distributions between the different clusters."
   ]
  },
  {
   "cell_type": "code",
   "execution_count": null,
   "metadata": {
    "deletable": false,
    "editable": false,
    "nbgrader": {
     "cell_type": "code",
     "checksum": "a90deb3891db2f36689b521e7da28c11",
     "grade": false,
     "grade_id": "cell-cf5d233797355afc",
     "locked": true,
     "schema_version": 3,
     "solution": false,
     "task": false
    }
   },
   "outputs": [],
   "source": [
    "options(repr.plot.height = 8, repr.plot.width = 15)\n",
    "cluster_assignments %>%\n",
    "    pivot_longer(cols = -.cluster, names_to = 'category', values_to = 'value')  %>% \n",
    "    ggplot(aes(value, fill = .cluster)) +\n",
    "        geom_density(alpha = 0.4, colour = 'white') +\n",
    "        facet_wrap(~ category, scales = 'free') +\n",
    "        theme_minimal() +\n",
    "        theme(text = element_text(size = 20))"
   ]
  },
  {
   "cell_type": "markdown",
   "metadata": {
    "deletable": false,
    "editable": false,
    "nbgrader": {
     "cell_type": "markdown",
     "checksum": "1bd4bb586471ac21de6c96470cf73669",
     "grade": false,
     "grade_id": "cell-8b8b18b8d8879898",
     "locked": true,
     "schema_version": 3,
     "solution": false,
     "task": false
    }
   },
   "source": [
    "**Question 2.4** Multiple Choice:\n",
    "<br> {points: 1}\n",
    "\n",
    "From the plots above, point out the categories that we might hypothesize are driving the clustering? (i.e., are useful to distinguish between the type of tourists?) We list the table of the categories below. \n",
    "\n",
    "- Category 1 : Average user feedback on art galleries \n",
    "- Category 2 : Average user feedback on dance clubs \n",
    "- Category 3 : Average user feedback on juice bars \n",
    "- Category 4 : Average user feedback on restaurants \n",
    "- Category 5 : Average user feedback on museums \n",
    "- Category 6 : Average user feedback on resorts \n",
    "- Category 7 : Average user feedback on parks/picnic spots \n",
    "- Category 8 : Average user feedback on beaches \n",
    "- Category 9 : Average user feedback on theaters \n",
    "- Category 10 : Average user feedback on religious institutions\n",
    "\n",
    "A. 10, 3, 5, 6, 7\n",
    "\n",
    "B. 10, 3, 5, 6, 1\n",
    "\n",
    "C. 10, 3, 4, 6, 7\n",
    "\n",
    "D. 10, 2, 5, 6, 7\n",
    "\n",
    "*Assign your answer to an object called `answer2.4`. Make sure your answer is an uppercase letter and is surrounded by quotation marks (e.g. `\"F\"`).*"
   ]
  },
  {
   "cell_type": "code",
   "execution_count": null,
   "metadata": {
    "deletable": false,
    "nbgrader": {
     "cell_type": "code",
     "checksum": "573ce7a4f6e46119cb29310d9fcbd205",
     "grade": false,
     "grade_id": "cell-8c62246c6b465a60",
     "locked": false,
     "schema_version": 3,
     "solution": true,
     "task": false
    }
   },
   "outputs": [],
   "source": [
    "# your code here\n",
    "fail() # No Answer - remove if you provide an answer\n",
    "answer2.4"
   ]
  },
  {
   "cell_type": "code",
   "execution_count": null,
   "metadata": {
    "deletable": false,
    "editable": false,
    "nbgrader": {
     "cell_type": "code",
     "checksum": "7d5c5a83d7b6604b660b0ac092ea6498",
     "grade": true,
     "grade_id": "cell-96590ae632b0f9c5",
     "locked": true,
     "points": 1,
     "schema_version": 3,
     "solution": false,
     "task": false
    }
   },
   "outputs": [],
   "source": [
    "test_that('Did not create an object called answer2.4', {\n",
    "    expect_true(exists('answer2.4'))\n",
    "    })\n",
    "# The remainder of the tests were intentionally hidden so that you can practice deciding \n",
    "# when you have the correct answer.\n"
   ]
  },
  {
   "cell_type": "markdown",
   "metadata": {
    "deletable": false,
    "editable": false,
    "nbgrader": {
     "cell_type": "markdown",
     "checksum": "5227992a81b4aee058db34895049dff9",
     "grade": false,
     "grade_id": "cell-ec41e7e431266a81",
     "locked": true,
     "schema_version": 3,
     "solution": false
    }
   },
   "source": [
    "**Question 2.5** \n",
    "<br> {points: 3}\n",
    "\n",
    "Discuss one disadvantage of not being able to visualize the clusters when dealing with multidimensional data."
   ]
  },
  {
   "cell_type": "markdown",
   "metadata": {
    "deletable": false,
    "nbgrader": {
     "cell_type": "markdown",
     "checksum": "98b74920637d5e31a2b81a3e3226044d",
     "grade": true,
     "grade_id": "cell-d4e16b6f6a5d2cb7",
     "locked": false,
     "points": 3,
     "schema_version": 3,
     "solution": true,
     "task": false
    }
   },
   "source": [
    "DOUBLE CLICK TO EDIT **THIS CELL** AND REPLACE THIS TEXT WITH YOUR ANSWER."
   ]
  },
  {
   "cell_type": "code",
   "execution_count": null,
   "metadata": {
    "deletable": false,
    "editable": false,
    "nbgrader": {
     "cell_type": "code",
     "checksum": "94648b9646d5bef228db587953857ff2",
     "grade": false,
     "grade_id": "cell-82a01e531bc3c1b3",
     "locked": true,
     "schema_version": 3,
     "solution": false,
     "task": false
    }
   },
   "outputs": [],
   "source": [
    "source(\"cleanup_tutorial_10.R\")"
   ]
  }
 ],
 "metadata": {
  "kernelspec": {
   "display_name": "R",
   "language": "R",
   "name": "ir"
  },
  "language_info": {
   "codemirror_mode": "r",
   "file_extension": ".r",
   "mimetype": "text/x-r-source",
   "name": "R",
   "pygments_lexer": "r",
   "version": "4.0.0"
  }
 },
 "nbformat": 4,
 "nbformat_minor": 2
}
