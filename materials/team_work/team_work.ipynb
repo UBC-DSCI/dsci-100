{
 "cells": [
  {
   "cell_type": "markdown",
   "metadata": {},
   "source": [
    "# DSCI 100 Group project reflection\n",
    "\n",
    "The purpose of this individual report is to give you an avenue to present your viewpoint as to how the project went, how the group worked together, and your role in the group. Each group member must complete this form to report on the contributions of **yourself** and the other group members. That information be used to assign you a team work grade, and can also, if needed, be used to adjust final project grades of individuals. This is a private report, meaning that none of your classmates will see this report. Please fill out this form as a Jupyter notebook and then convert it to **html** for submission to Canvas.\n",
    "\n",
    "\n",
    "Evaluate\teach\tmember\tof\tyour\tgroup\tby\twriting\tthe\tnumber\tthat\tbest\treflects\tthe\textent\tto\twhich\the/she\n",
    "participated,\tprepared,\thelped\tthe\tgroup\texcel,\tand\twas\ta\tteam\tplayer.\tUse\tthe\tfollowing\tratings:\n",
    "\n",
    "| Rating | Description                                 |\n",
    "|--------|---------------------------------------------|\n",
    "| 4\t     | Usually\t(over\t90%\tof\tthe\ttime)            |\n",
    "| 3\t     | Frequently\t(more\toften\tthan\tnot)           |\n",
    "| 2\t     | Sometimes\t(less\tthan\thalf\tthe\ttime)      |\n",
    "| 1\t     | Rarely\t(never\tor\tonce\tin\ta\tgreat\twhile) |\n",
    "\n"
   ]
  },
  {
   "cell_type": "markdown",
   "metadata": {},
   "source": [
    "**Preparation.**\tPrepared\tfor\t group\tmeetings and presentations;\thas spent time becoming familiar with the material relevant for the project; understands the project's goal and expectations;\tdoes what they say they will do on time;\tattends\tand\tis\ton\ttime\tto\tgroup\tmeetings and presentations."
   ]
  },
  {
   "cell_type": "markdown",
   "metadata": {},
   "source": [
    "| Group member name | Preparation rating |\n",
    "|-------------------|--------|\n",
    "|                   |        |\n",
    "|                   |        |\n",
    "|                   |        |"
   ]
  },
  {
   "cell_type": "markdown",
   "metadata": {},
   "source": [
    "**Participation\t&\tcommunication.**\tArticulates\tideas\teffectively\twhen speaking\tor\twriting;\twork\tis without\tgrammatical\terrors;\tlistens\tto\tothers;\tencourages\tothers\tto\ttalk."
   ]
  },
  {
   "cell_type": "markdown",
   "metadata": {},
   "source": [
    "| Group member name | Participation\t&\tcommunication rating |\n",
    "|-------------------|--------|\n",
    "|                   |        |\n",
    "|                   |        |\n",
    "|                   |        |"
   ]
  },
  {
   "cell_type": "markdown",
   "metadata": {},
   "source": [
    "**Helps\tgroup\texcel.**\tExpresses\tgreat\tinterest\tin\tgroup\tsuccess\tby\tevaluating\n",
    "ideas\tand\tsuggestions;\tinitiates\tproblem\tsolving;\tinfluences\tand\tencourages\n",
    "others\tto\tset\tup\thigh\tstandards;\tdoesn't\taccept\tjust\tany\tidea\tbut\tlooks\tfor\n",
    "the\tbest\tideas;\tstays\tmotivated\tfrom\tbeginning\tto\tend\tof\tproject."
   ]
  },
  {
   "cell_type": "markdown",
   "metadata": {},
   "source": [
    "| Group member name | Helps\tgroup\texcel rating |\n",
    "|-------------------|--------|\n",
    "|                   |        |\n",
    "|                   |        |\n",
    "|                   |        |"
   ]
  },
  {
   "cell_type": "markdown",
   "metadata": {},
   "source": [
    "**Team\tplayer\t(cooperation).**\tKnows\twhen\tto\tbe\ta\tleader\n",
    "and\ta\tfollower;\tkeeps\tan\topen\tmind;\tcompromises\twhen\n",
    "appropriate;\tcan\ttake\tcriticism;\trespects\tothers.\n"
   ]
  },
  {
   "cell_type": "markdown",
   "metadata": {},
   "source": [
    "| Group member name | Team\tplayer (cooperation) rating |\n",
    "|-------------------|--------|\n",
    "|                   |        |\n",
    "|                   |        |\n",
    "|                   |        |"
   ]
  },
  {
   "cell_type": "markdown",
   "metadata": {},
   "source": [
    "Below,\tbriefly\tdescribe\tthe\tspecific\tcontribution(s)\teach\tteam\tmember (**including yourself**)\tmade\tto\tyour\tproject.\tPoint form\tis\tfine.\tSpecifically, comment on the following areas:\n",
    "\n",
    "- how the team worked together as a whole, including:\n",
    "    - what was your role in the group? That is, what sort of things did you do to contribute to the evolution of the project?\n",
    "    - what were the roles of others in your group?\n",
    "- what went well and poorly throughout the team project experience?"
   ]
  },
  {
   "cell_type": "markdown",
   "metadata": {},
   "source": [
    "> YOUR ANSWER HERE"
   ]
  }
 ],
 "metadata": {
  "kernelspec": {
   "display_name": "R",
   "language": "R",
   "name": "ir"
  },
  "language_info": {
   "codemirror_mode": "r",
   "file_extension": ".r",
   "mimetype": "text/x-r-source",
   "name": "R",
   "pygments_lexer": "r",
   "version": "4.0.3"
  }
 },
 "nbformat": 4,
 "nbformat_minor": 4
}
