{
 "cells": [
  {
   "cell_type": "markdown",
   "metadata": {
    "deletable": false,
    "editable": false,
    "nbgrader": {
     "cell_type": "markdown",
     "checksum": "4ed9aa8cacfca551a8f5be3f846377d0",
     "grade": false,
     "grade_id": "cell-828c8d5940e2ca04",
     "locked": true,
     "schema_version": 3,
     "solution": false,
     "task": false
    },
    "slideshow": {
     "slide_type": "slide"
    }
   },
   "source": [
    "# DSCI 100: Introduction to Data Science\n",
    "\n",
    "## Tutorial 2 - Getting data into R: Class activity"
   ]
  },
  {
   "cell_type": "markdown",
   "metadata": {
    "deletable": false,
    "editable": false,
    "nbgrader": {
     "cell_type": "markdown",
     "checksum": "a3680078bb6e25166b9597007457377c",
     "grade": false,
     "grade_id": "cell-25395b04a6bbbdc0",
     "locked": true,
     "schema_version": 3,
     "solution": false,
     "task": false
    },
    "slideshow": {
     "slide_type": "fragment"
    }
   },
   "source": [
    "Run this cell to load the required packages, connect to the `kickstarter` database, and create a reference to the `projects` table inside the database. **Read the comments in the next cell carefully.**"
   ]
  },
  {
   "cell_type": "code",
   "execution_count": null,
   "metadata": {},
   "outputs": [],
   "source": [
    "library(tidyverse)\n",
    "library(dbplyr)\n",
    "library(DBI)\n",
    "source(\"setup.R\")\n",
    "\n",
    "# Here we call a function we created that initiates a \n",
    "# connection to the kickstarter database for you.\n",
    "# This was ONLY done to simplify the activity.\n",
    "connection <- setup()\n",
    "\n",
    "# Now we get a reference the \"projects\" table from the\n",
    "# database using tbl() and give it the name projects.\n",
    "projects <- tbl(connection, \"projects\")"
   ]
  },
  {
   "cell_type": "markdown",
   "metadata": {
    "deletable": false,
    "editable": false,
    "nbgrader": {
     "cell_type": "markdown",
     "checksum": "0f763b1dc018378083897f3523fe41be",
     "grade": false,
     "grade_id": "cell-c5882b60ad32f84f",
     "locked": true,
     "schema_version": 3,
     "solution": false,
     "task": false
    },
    "slideshow": {
     "slide_type": "fragment"
    }
   },
   "source": [
    "Use the `projects` table from the `kickstarter` database to answer the following question: what is the project URL of the project from Great Britain (`GB`) with the greatest total amount pledged.\n",
    "\n",
    "There are many approaches to solving this question. The two code cells below each contain the lines of code for one approach each. **For each cell, uncomment the code and rearrange the lines to answer the question.**"
   ]
  },
  {
   "cell_type": "code",
   "execution_count": null,
   "metadata": {
    "deletable": false,
    "nbgrader": {
     "cell_type": "code",
     "checksum": "da63a0cca6245fd75fb46f1666d7198a",
     "grade": true,
     "grade_id": "cell-250a87911c67753b",
     "locked": false,
     "points": 0,
     "schema_version": 3,
     "solution": true,
     "task": false
    }
   },
   "outputs": [],
   "source": [
    "# Start a timer.\n",
    "ptm <- proc.time()\n",
    "\n",
    "\n",
    "# tail(projects_collected)\n",
    "# projects_selected <- select(projects, url_project, country, pledged)\n",
    "# projects_sorted <- arrange(projects_filtered, pledged)\n",
    "# projects_filtered <- filter(projects_selected, country == \"GB\")\n",
    "# projects_collected <- collect(projects_sorted)\n",
    "\n",
    "# your code here\n",
    "fail() # No Answer - remove if you provide an answer\n",
    "\n",
    "\n",
    "# Stop the timer and print out the time it took for the code to run\n",
    "# in seconds.\n",
    "(proc.time() - ptm)[\"elapsed\"]"
   ]
  },
  {
   "cell_type": "code",
   "execution_count": null,
   "metadata": {
    "deletable": false,
    "nbgrader": {
     "cell_type": "code",
     "checksum": "3268057eb36f0dbfadb94a80d29ddd18",
     "grade": true,
     "grade_id": "cell-44f6b0cb2f79c0c2",
     "locked": false,
     "points": 0,
     "schema_version": 3,
     "solution": true,
     "task": false
    }
   },
   "outputs": [],
   "source": [
    "# Start a timer.\n",
    "ptm <- proc.time()\n",
    "\n",
    "\n",
    "# tail(projects_df_sorted)\n",
    "# projects_df <- collect(projects)\n",
    "# projects_df_sorted <- arrange(projects_df_filtered, pledged)\n",
    "# projects_df_selected <- select(projects_df, url_project, country, pledged)\n",
    "# projects_df_filtered <- filter(projects_df_selected, country == \"GB\")\n",
    "\n",
    "# your code here\n",
    "fail() # No Answer - remove if you provide an answer\n",
    "\n",
    "\n",
    "# Stop the timer and print out the time it took for the code to run\n",
    "# in seconds.\n",
    "(proc.time() - ptm)[\"elapsed\"]"
   ]
  },
  {
   "cell_type": "markdown",
   "metadata": {
    "deletable": false,
    "nbgrader": {
     "cell_type": "markdown",
     "checksum": "751a6055257a7f1a5280bde66eee3869",
     "grade": true,
     "grade_id": "cell-87d6faea61248150",
     "locked": false,
     "points": 0,
     "schema_version": 3,
     "solution": true,
     "task": false
    }
   },
   "source": [
    "##### Paste the URL of the project from Great Britain (GB) with the greatest total amount pledged in this cell.\n",
    "\n",
    "DOUBLE CLICK TO EDIT **THIS CELL** AND REPLACE THIS TEXT WITH YOUR ANSWER."
   ]
  },
  {
   "cell_type": "markdown",
   "metadata": {
    "deletable": false,
    "editable": false,
    "nbgrader": {
     "cell_type": "markdown",
     "checksum": "72a13fc908ad92ebfedd0cb06de6a093",
     "grade": false,
     "grade_id": "cell-433fc700c98a8ef3",
     "locked": true,
     "schema_version": 3,
     "solution": false,
     "task": false
    },
    "slideshow": {
     "slide_type": "slide"
    }
   },
   "source": [
    "Note that `proc.time()` is a function that lets us figure out how long code takes to run. After running each of the above blocks of code, you should see ouput that tells you the time it took for the cell to run underneath the preview of the dataframe.\n",
    "\n",
    "### Question:\n",
    "**Which block of code ran faster? Why?**\n"
   ]
  },
  {
   "cell_type": "markdown",
   "metadata": {
    "deletable": false,
    "nbgrader": {
     "cell_type": "markdown",
     "checksum": "8d3e0e2c80b93c721ea7e120b6a312c4",
     "grade": true,
     "grade_id": "cell-8b374232d65f3bd4",
     "locked": false,
     "points": 0,
     "schema_version": 3,
     "solution": true,
     "task": false
    }
   },
   "source": [
    "\n",
    "DOUBLE CLICK TO EDIT **THIS CELL** AND REPLACE THIS TEXT WITH YOUR ANSWER."
   ]
  }
 ],
 "metadata": {
  "kernelspec": {
   "display_name": "R",
   "language": "R",
   "name": "ir"
  },
  "language_info": {
   "codemirror_mode": "r",
   "file_extension": ".r",
   "mimetype": "text/x-r-source",
   "name": "R",
   "pygments_lexer": "r",
   "version": "4.0.0"
  }
 },
 "nbformat": 4,
 "nbformat_minor": 2
}
