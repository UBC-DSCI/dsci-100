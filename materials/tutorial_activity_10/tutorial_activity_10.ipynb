{
 "cells": [
  {
   "cell_type": "markdown",
   "metadata": {
    "deletable": false,
    "editable": false,
    "nbgrader": {
     "cell_type": "markdown",
     "checksum": "66b8426df14209a7848527a8fa25ef11",
     "grade": false,
     "grade_id": "cell-94dbc9244b334f17",
     "locked": true,
     "schema_version": 3,
     "solution": false,
     "task": false
    }
   },
   "source": [
    "# DSCI 100: Introduction to Data Science\n",
    "\n",
    "## Tutorial 10 — Clustering: Class activity"
   ]
  },
  {
   "cell_type": "markdown",
   "metadata": {
    "deletable": false,
    "editable": false,
    "nbgrader": {
     "cell_type": "markdown",
     "checksum": "998d879edbe4ebdeb55460a7869a60f0",
     "grade": false,
     "grade_id": "cell-7a882b4ab74615c3",
     "locked": true,
     "schema_version": 3,
     "solution": false,
     "task": false
    }
   },
   "source": [
    "Today, we will be looking at earthquake data from the [U.S. Geological Survey](https://www.usgs.gov/natural-hazards/earthquake-hazards/).\n",
    "\n",
    "Each row represents seismograph measurements measured at different stations. We will be preforming a $k$-means clustering algorithm to cluster measurements based on the depth of the event (in kilometers) and magnitude of the event, a variable which characterizes the relative size."
   ]
  },
  {
   "cell_type": "code",
   "execution_count": null,
   "metadata": {},
   "outputs": [],
   "source": [
    "# install the necessary packages for plotting map\n",
    "# comment out the line below to install, and then recomment it once it is installed (this need only be run once)\n",
    "# install.packages(\"ggmap\")"
   ]
  },
  {
   "cell_type": "code",
   "execution_count": null,
   "metadata": {},
   "outputs": [],
   "source": [
    "# Load in necessary packages \n",
    "library(ggmap)\n",
    "library(tidyverse)\n",
    "library(broom) # importantly, don't forget broom for clustering!\n",
    "options(repr.matrix.max.rows = 6)"
   ]
  },
  {
   "cell_type": "markdown",
   "metadata": {
    "deletable": false,
    "editable": false,
    "nbgrader": {
     "cell_type": "markdown",
     "checksum": "ee305029f8cbc598a778978a380b2dd5",
     "grade": false,
     "grade_id": "cell-6445d77274b4c243",
     "locked": true,
     "schema_version": 3,
     "solution": false,
     "task": false
    }
   },
   "source": [
    "The data set `earthquake.csv` is located in the `data` folder. Load the data set and call it `quake`."
   ]
  },
  {
   "cell_type": "code",
   "execution_count": null,
   "metadata": {
    "deletable": false,
    "nbgrader": {
     "cell_type": "code",
     "checksum": "793e08d8c542b2a3f4352100c709bbc3",
     "grade": false,
     "grade_id": "cell-1e3b2cd356232a85",
     "locked": false,
     "schema_version": 3,
     "solution": true,
     "task": false
    }
   },
   "outputs": [],
   "source": [
    "# your code here\n",
    "fail() # No Answer - remove if you provide an answer\n",
    "quake  "
   ]
  },
  {
   "cell_type": "markdown",
   "metadata": {
    "deletable": false,
    "editable": false,
    "nbgrader": {
     "cell_type": "markdown",
     "checksum": "c28b1388b0fe106ebf5c0cf9cd164767",
     "grade": false,
     "grade_id": "cell-b13f093ce471ef5c",
     "locked": true,
     "schema_version": 3,
     "solution": false,
     "task": false
    }
   },
   "source": [
    "We can use the `ggmap` package to visualize the location of the earthquake activity overlaid on a map of the world."
   ]
  },
  {
   "cell_type": "code",
   "execution_count": null,
   "metadata": {
    "deletable": false,
    "editable": false,
    "nbgrader": {
     "cell_type": "code",
     "checksum": "190e7ea61262577536763ec33b4f1cbe",
     "grade": false,
     "grade_id": "cell-255da705a6a72958",
     "locked": true,
     "schema_version": 3,
     "solution": false,
     "task": false
    }
   },
   "outputs": [],
   "source": [
    "options(repr.plot.width = 15)\n",
    "\n",
    "mapbox <- c(-179.8454, -62.3062, 179.8348, 79.6239)\n",
    "\n",
    "my_map <- get_map(location = mapbox, source = \"stamen\", maptype = \"toner\")\n",
    "ggmap(my_map) +\n",
    "    geom_point(data = quake, \n",
    "             aes(x = longitude, y = latitude), \n",
    "             color = \"red\", \n",
    "             size = 3,\n",
    "             alpha = 0.5) +\n",
    "    labs(x = \"Longitude\", y = \"Latitude\")"
   ]
  },
  {
   "cell_type": "markdown",
   "metadata": {
    "deletable": false,
    "editable": false,
    "nbgrader": {
     "cell_type": "markdown",
     "checksum": "a7cf93cd3e82553269567e852f1e0e2d",
     "grade": false,
     "grade_id": "cell-2053d6a09a51cf70",
     "locked": true,
     "schema_version": 3,
     "solution": false,
     "task": false
    }
   },
   "source": [
    "Now, let's make a scatterplot to look at the relationship between `depth` and `mag` (magnitude). "
   ]
  },
  {
   "cell_type": "code",
   "execution_count": null,
   "metadata": {
    "deletable": false,
    "nbgrader": {
     "cell_type": "code",
     "checksum": "987da46b17760601e8630df207f1788a",
     "grade": true,
     "grade_id": "cell-4c453bdca71d0146",
     "locked": false,
     "points": 0,
     "schema_version": 3,
     "solution": true,
     "task": false
    }
   },
   "outputs": [],
   "source": [
    "options(repr.plot.width = 7)\n",
    "# your code here\n",
    "fail() # No Answer - remove if you provide an answer\n",
    "earthquake_plot"
   ]
  },
  {
   "cell_type": "markdown",
   "metadata": {
    "deletable": false,
    "editable": false,
    "nbgrader": {
     "cell_type": "markdown",
     "checksum": "a862c89b21e52fc2f85ed5004c0dd9a8",
     "grade": false,
     "grade_id": "cell-979e71e4455a496e",
     "locked": true,
     "schema_version": 3,
     "solution": false,
     "task": false
    }
   },
   "source": [
    "From this visualization (or from what you know about the data set), what is one additional wrangling step we need to take perform attempting to perform clustering on this data set?"
   ]
  },
  {
   "cell_type": "code",
   "execution_count": null,
   "metadata": {
    "deletable": false,
    "nbgrader": {
     "cell_type": "code",
     "checksum": "f1bcfe975453591cf07e5337e0964711",
     "grade": true,
     "grade_id": "cell-bedb3ba96a832dbd",
     "locked": false,
     "points": 0,
     "schema_version": 3,
     "solution": true,
     "task": false
    }
   },
   "outputs": [],
   "source": [
    "# What wrangling step? ...\n",
    "\n",
    "# First create a dataframe with just the two variables; then scale\n",
    "# your code here\n",
    "fail() # No Answer - remove if you provide an answer"
   ]
  },
  {
   "cell_type": "markdown",
   "metadata": {
    "deletable": false,
    "editable": false,
    "nbgrader": {
     "cell_type": "markdown",
     "checksum": "7ae860273cb1df037beb2acd4551ec31",
     "grade": false,
     "grade_id": "cell-68c59a709cf7538d",
     "locked": true,
     "schema_version": 3,
     "solution": false,
     "task": false
    }
   },
   "source": [
    "Now, let's use the elbow method to choose the best $k$! 💪 \n",
    "\n",
    "(That is, the $k$ after which the WSSD improves by a *diminishing amount*.)"
   ]
  },
  {
   "cell_type": "code",
   "execution_count": null,
   "metadata": {
    "deletable": false,
    "nbgrader": {
     "cell_type": "code",
     "checksum": "b27fc635c81aaa77df7f246f5c2817fb",
     "grade": true,
     "grade_id": "cell-8e4545e2c9d8c544",
     "locked": false,
     "points": 0,
     "schema_version": 3,
     "solution": true,
     "task": false
    }
   },
   "outputs": [],
   "source": [
    "set.seed(3) # Do not remove\n",
    "\n",
    "# Remember to use the scaled data frame!\n",
    "\n",
    "# Try ks = 1 to 9\n",
    "\n",
    "# Unnest the glanced data frames\n",
    "\n",
    "# Create the elbow plot\n",
    "\n",
    "# your code here\n",
    "fail() # No Answer - remove if you provide an answer"
   ]
  },
  {
   "cell_type": "markdown",
   "metadata": {
    "deletable": false,
    "editable": false,
    "nbgrader": {
     "cell_type": "markdown",
     "checksum": "9d7dd05d1bd88bc07936a8e06c3ede83",
     "grade": false,
     "grade_id": "cell-ab0eefdd753fde03",
     "locked": true,
     "schema_version": 3,
     "solution": false,
     "task": false
    }
   },
   "source": [
    "What is the optimal k? Proceed by clustering with the correct number of ks and produce a plot to go along with it. This is our final model. "
   ]
  },
  {
   "cell_type": "code",
   "execution_count": null,
   "metadata": {
    "deletable": false,
    "nbgrader": {
     "cell_type": "code",
     "checksum": "e4d60bb722fe412f7fa89c617f72c4d7",
     "grade": true,
     "grade_id": "cell-3476f599893eb314",
     "locked": false,
     "points": 0,
     "schema_version": 3,
     "solution": true,
     "task": false
    }
   },
   "outputs": [],
   "source": [
    "set.seed(3)# Do not remove\n",
    "\n",
    "# Do kmeans with the optimal k\n",
    "# Augment our model with the original data frame\n",
    "# Plot the clusters -- remember that the new column (with the groupings) is called .cluster\n",
    "\n",
    "# your code here\n",
    "fail() # No Answer - remove if you provide an answer"
   ]
  },
  {
   "cell_type": "markdown",
   "metadata": {
    "deletable": false,
    "editable": false,
    "nbgrader": {
     "cell_type": "markdown",
     "checksum": "6f451f1adffa73064b44da70b79d1d6f",
     "grade": false,
     "grade_id": "cell-2cdeb8bb258dc73d",
     "locked": true,
     "schema_version": 3,
     "solution": false,
     "task": false
    }
   },
   "source": [
    "Now that we have our cluster assignments we can overlay the earthquake on top of the map according to their cluster. "
   ]
  },
  {
   "cell_type": "code",
   "execution_count": null,
   "metadata": {},
   "outputs": [],
   "source": [
    "options(repr.plot.width = 15)\n",
    "earthquake_with_cluster <- augment(earthquake_clust, quake)\n",
    "\n",
    "ggmap(my_map) +\n",
    "    geom_point(data = earthquake_with_cluster, \n",
    "             aes(x = longitude, y = latitude, colour = .cluster), \n",
    "             size = 5,\n",
    "             alpha = 0.5) + \n",
    "    labs(x = \"Longitude\", y = \"Latitude\", colour = \"Cluster\")"
   ]
  }
 ],
 "metadata": {
  "kernelspec": {
   "display_name": "R",
   "language": "R",
   "name": "ir"
  },
  "language_info": {
   "codemirror_mode": "r",
   "file_extension": ".r",
   "mimetype": "text/x-r-source",
   "name": "R",
   "pygments_lexer": "r",
   "version": "4.0.0"
  }
 },
 "nbformat": 4,
 "nbformat_minor": 4
}
