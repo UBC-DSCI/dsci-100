{
 "cells": [
  {
   "cell_type": "markdown",
   "metadata": {
    "deletable": false,
    "editable": false,
    "nbgrader": {
     "cell_type": "markdown",
     "checksum": "9ad1934a00085ccd4521e9923f602d71",
     "grade": false,
     "grade_id": "cell-744c2b88b126eef7",
     "locked": true,
     "schema_version": 3,
     "solution": false,
     "task": false
    }
   },
   "source": [
    "# Tutorial 3: Cleaning and Wrangling Data\n",
    "\n",
    "### Lecture and Tutorial Learning Goals:\n",
    "\n",
    "After completing this week's lecture and tutorial work, you will be able to:\n",
    "\n",
    "* define the term \"tidy data\"\n",
    "* discuss the advantages and disadvantages of storing data in a tidy data format\n",
    "* recall and use the following tidyverse functions and operators for their intended data wrangling tasks:\n",
    "    - `select`\n",
    "    - `filter`\n",
    "    - `%>%`\n",
    "    - `map`\n",
    "    - `mutate`\n",
    "    - `summarize`\n",
    "    - `group_by`\n",
    "    - `pivot_longer`\n",
    "    - `pivot_wider`\n",
    "    - `%in%`\n",
    "\n",
    "\n",
    "Any place you see `...`, you must fill in the function, variable, or data to complete the code. Replace `fail()` with your completed code and run the cell!"
   ]
  },
  {
   "cell_type": "code",
   "execution_count": null,
   "metadata": {
    "deletable": false,
    "editable": false,
    "nbgrader": {
     "cell_type": "code",
     "checksum": "da82f13f0421fc2dfd986c7b6250c7f2",
     "grade": false,
     "grade_id": "cell-80ccad445a8e0a42",
     "locked": true,
     "schema_version": 3,
     "solution": false,
     "task": false
    }
   },
   "outputs": [],
   "source": [
    "### Run this cell before continuing. \n",
    "library(repr)\n",
    "library(tidyverse)\n",
    "source(\"tests_tutorial_03.R\")\n",
    "source(\"cleanup_tutorial_03.R\")\n",
    "options(repr.matrix.max.rows = 6) #limits output of dataframes to 6 rows"
   ]
  },
  {
   "cell_type": "markdown",
   "metadata": {
    "deletable": false,
    "editable": false,
    "nbgrader": {
     "cell_type": "markdown",
     "checksum": "0aeed6222f6dfa6e85d766f82fecc4c5",
     "grade": false,
     "grade_id": "cell-468f572209bb397f",
     "locked": true,
     "schema_version": 3,
     "solution": false
    }
   },
   "source": [
    "**Question 0.1** \n",
    "<br> {points: 1}\n",
    "\n",
    "Match the following definitions with the corresponding functions used in R:\n",
    "\n",
    "A. Transforms the input by applying a function to each element and returning a vector the same length as the input.\n",
    "\n",
    "B. Reads files that have columns separated by tabs. \n",
    "\n",
    "C. Most data operations are done on groups defined by variables. This function takes an existing data set and converts it into a grouped data set where operations are performed \"by group\". \n",
    "\n",
    "D. Works in an analogous way to mutate, except instead of adding columns to an existing data frame, it creates a new data frame.\n",
    "\n",
    "E. \"lengthens\" data, increasing the number of rows and decreasing the number of columns.\n",
    "\n",
    "F. Labels the x-axis. \n",
    "\n",
    "\n",
    "*Functions*\n",
    "\n",
    "1. `group_by`\n",
    "2. `map`\n",
    "3. `read_tsv`\n",
    "4. `summarise`\n",
    "5. `xlab`\n",
    "6. `pivot_longer`\n",
    "\n",
    "For every description, create an object using the letter associated with the definition and assign it to the corresponding number from the list of functions. For example: \n",
    "```\n",
    "A <- 1\n",
    "B <- 2\n",
    "C <- 3\n",
    "...\n",
    "F <- 6\n",
    "```\n"
   ]
  },
  {
   "cell_type": "code",
   "execution_count": null,
   "metadata": {
    "deletable": false,
    "nbgrader": {
     "cell_type": "code",
     "checksum": "088fed165b4bc21e950a96ba0ffecd82",
     "grade": false,
     "grade_id": "cell-23618c5deb777bd4",
     "locked": false,
     "schema_version": 3,
     "solution": true
    }
   },
   "outputs": [],
   "source": [
    "# Replace the fail() with your answer. \n",
    "\n",
    "# your code here\n",
    "fail() # No Answer - remove if you provide an answer"
   ]
  },
  {
   "cell_type": "code",
   "execution_count": null,
   "metadata": {
    "deletable": false,
    "editable": false,
    "nbgrader": {
     "cell_type": "code",
     "checksum": "f4f94444f75ce8740fa17b9b9af18a1c",
     "grade": true,
     "grade_id": "cell-b2ed899f3e35cfcb",
     "locked": true,
     "points": 1,
     "schema_version": 3,
     "solution": false
    }
   },
   "outputs": [],
   "source": [
    "test_0.1()"
   ]
  },
  {
   "cell_type": "markdown",
   "metadata": {
    "deletable": false,
    "editable": false,
    "nbgrader": {
     "cell_type": "markdown",
     "checksum": "08deadb0e13f8062b0a36829d6b856f0",
     "grade": false,
     "grade_id": "cell-1c500c1d871fa330",
     "locked": true,
     "schema_version": 3,
     "solution": false,
     "task": false
    }
   },
   "source": [
    "## 1. Historical Data on Avocado Prices \n",
    "In the tutorial, we will be finishing off our analysis of the avocado data set. \n",
    "\n",
    "You might recall from the lecture that millennials LOVE avocado toast. However, avocados are expensive and this is costing millennials a lot more than you think (joking again 😉, well mostly...). To ensure that they can save enough to buy a house, it would be beneficial for an avocado fanatic to move to a city with low avocado prices. From Worksheet 3 we saw that the price of the avocados is less in the months between December and May, but we still don't know which region contains the cheapest avocados. \n",
    "\n",
    "<img align=\"left\" src=\"https://media.giphy.com/media/8p3ylHVA2ZOIo/giphy.gif\" width=\"200\"/>"
   ]
  },
  {
   "cell_type": "markdown",
   "metadata": {
    "deletable": false,
    "editable": false,
    "nbgrader": {
     "cell_type": "markdown",
     "checksum": "905a9aa57da37ce3f89e8d768aa07505",
     "grade": false,
     "grade_id": "cell-06b3d7a6417ec05c",
     "locked": true,
     "schema_version": 3,
     "solution": false,
     "task": false
    }
   },
   "source": [
    "*image source: https://media.giphy.com/media/8p3ylHVA2ZOIo/giphy.gif*\n",
    "\n",
    "\n",
    "As a reminder, here are some relevant columns in the dataset:\n",
    "\n",
    "- `average_price` - The average price of a single avocado.\n",
    "- `type` - conventional or organic\n",
    "- `year` - The year\n",
    "- `region` - The city or region of the observation\n",
    "- `small_hass_volume`\t\n",
    "- `large_hass_volume`\t\n",
    "- `extra_l_hass_volume`\t\n",
    "\n",
    "Additionally, the last three columns can be used to calculate `total_volume` in pounds (lbs). The goal for today is to find the region with the cheapest avocados and then produce a plot of the total number of avocados sold against the average price per avocado **(in US dollars)** for that region. To do this, you will follow the steps below. \n",
    "\n",
    "1. use a tidyverse `read_*` function to load the csv file into your notebook\n",
    "2. use `group_by + summarize` to find the region with the cheapest avocados. \n",
    "3. use `filter` to specifically look at data from the region of interest. \n",
    "4. use `mutate` to add up the volume for all types of avocados (small, large, and extra)\n",
    "5. use `ggplot` to create our plot of volume vs average price\n"
   ]
  },
  {
   "cell_type": "markdown",
   "metadata": {
    "deletable": false,
    "editable": false,
    "nbgrader": {
     "cell_type": "markdown",
     "checksum": "a4e43c862f09106ff6a69d649d0703e7",
     "grade": false,
     "grade_id": "cell-8e23df9a6fc91bbd",
     "locked": true,
     "schema_version": 3,
     "solution": false
    }
   },
   "source": [
    "**Question 1.1** \n",
    "<br> {points: 1}\n",
    "\n",
    "Read the file `avocado_prices.csv` found in the `tutorial_03` directory using a relative path. \n",
    "\n",
    "*Assign your answer to an object called `avocado`.* "
   ]
  },
  {
   "cell_type": "code",
   "execution_count": null,
   "metadata": {
    "deletable": false,
    "nbgrader": {
     "cell_type": "code",
     "checksum": "4487df832bbd25860c50684fa5cc0ab3",
     "grade": false,
     "grade_id": "cell-1cdf53978903de5d",
     "locked": false,
     "schema_version": 3,
     "solution": true
    }
   },
   "outputs": [],
   "source": [
    "# your code here\n",
    "fail() # No Answer - remove if you provide an answer\n",
    "avocado"
   ]
  },
  {
   "cell_type": "code",
   "execution_count": null,
   "metadata": {
    "deletable": false,
    "editable": false,
    "nbgrader": {
     "cell_type": "code",
     "checksum": "9ad8d9a2232cc4061e4f45951068ab84",
     "grade": true,
     "grade_id": "cell-c03a49fcfd5662a6",
     "locked": true,
     "points": 1,
     "schema_version": 3,
     "solution": false
    }
   },
   "outputs": [],
   "source": [
    "test_1.1()"
   ]
  },
  {
   "cell_type": "markdown",
   "metadata": {
    "deletable": false,
    "editable": false,
    "nbgrader": {
     "cell_type": "markdown",
     "checksum": "b4ebd3a5af92732755dee4d26371cfd7",
     "grade": false,
     "grade_id": "cell-646181887e5db2ca",
     "locked": true,
     "schema_version": 3,
     "solution": false
    }
   },
   "source": [
    "**Question 1.2** \n",
    "<br> {points: 1}\n",
    "\n",
    "Now find the region with the cheapest avocados in 2018. To do this, calculate the average price for each region. Your answer should be the row from a data frame with the lowest average price. The data frame you create should have two columns, one named `region` that has the region, and the other that contains the average price for that region.\n",
    "\n",
    "*Assign your answer to an object called `cheapest`.*\n",
    "\n",
    "> Hint:  You can use the function `slice` to provide a row index (or range of row indices) to numerically subset rows from a data frame. For example, to subset the 5th row of a data frame you would type: \n",
    ">\n",
    ">```\n",
    ">dataframe %>% \n",
    ">    slice(5)\n",
    ">```\n",
    "\n"
   ]
  },
  {
   "cell_type": "code",
   "execution_count": null,
   "metadata": {
    "deletable": false,
    "nbgrader": {
     "cell_type": "code",
     "checksum": "e9025c256939aea89a260ace525eb682",
     "grade": false,
     "grade_id": "cell-f70def27fbc1324e",
     "locked": false,
     "schema_version": 3,
     "solution": true
    }
   },
   "outputs": [],
   "source": [
    "#... <- ... %>%\n",
    "#    ... %>%\n",
    "#    group_by(...) %>%\n",
    "#    summarize(...) %>%\n",
    "#    arrange(...) %>% \n",
    "#    slice(...)\n",
    "\n",
    "# your code here\n",
    "fail() # No Answer - remove if you provide an answer\n",
    "cheapest"
   ]
  },
  {
   "cell_type": "code",
   "execution_count": null,
   "metadata": {
    "deletable": false,
    "editable": false,
    "nbgrader": {
     "cell_type": "code",
     "checksum": "846a1ac52fb8393e15f9ff697338dce7",
     "grade": true,
     "grade_id": "cell-5d99f697df77f2cd",
     "locked": true,
     "points": 1,
     "schema_version": 3,
     "solution": false
    }
   },
   "outputs": [],
   "source": [
    "test_1.2()"
   ]
  },
  {
   "cell_type": "markdown",
   "metadata": {
    "deletable": false,
    "editable": false,
    "nbgrader": {
     "cell_type": "markdown",
     "checksum": "67a013f146ec8e1daee4b71097bbbe07",
     "grade": false,
     "grade_id": "cell-e593ec25d6175d0e",
     "locked": true,
     "schema_version": 3,
     "solution": false
    }
   },
   "source": [
    "**Question 1.3**\n",
    "<br> {points: 1}\n",
    "\n",
    "Now we will plot the total volume against average price for the cheapest region and all years. First, you need to mutate the data frame such that `total_volume` is equal to the addition of all three volume columns. Next, filter the dataset using the cheapest region found in **Question 1.2**. Finally, you will have the data necessary to create a scatter plot with: \n",
    "\n",
    "- x = `total_volume` \n",
    "- y = `average_price`\n",
    "\n",
    "Fill in the `...` in the cell below. Copy and paste your finished answer and replace the `fail()`. We will be scaling the axes - the function is added in the scaffolding for you. \n",
    "\n",
    "*Assign your answer to an object called `avocado_plot`.* \n",
    "\n",
    "> Hint: Do not forget units on your data visualization! Here the price is in US dollars (USD) and the volume in pounds (lbs)."
   ]
  },
  {
   "cell_type": "code",
   "execution_count": null,
   "metadata": {
    "deletable": false,
    "nbgrader": {
     "cell_type": "code",
     "checksum": "c6f7567fd6ed8bc4268500dd68002736",
     "grade": false,
     "grade_id": "cell-f8ea89f3f9702e23",
     "locked": false,
     "schema_version": 3,
     "solution": true
    }
   },
   "outputs": [],
   "source": [
    "options(repr.plot.width = 8, repr.plot.height = 7)\n",
    "\n",
    "#... <- ... %>%\n",
    "#     mutate(...) %>%\n",
    "#     filter(region == ...) %>%\n",
    "#     ggplot(aes(x = ..., y = ...)) + \n",
    "#         ... + \n",
    "#         xlab(...) +\n",
    "#         ylab(...) +\n",
    "#         scale_x_log10()\n",
    "\n",
    "# your code here\n",
    "fail() # No Answer - remove if you provide an answer\n",
    "avocado_plot"
   ]
  },
  {
   "cell_type": "code",
   "execution_count": null,
   "metadata": {
    "deletable": false,
    "editable": false,
    "nbgrader": {
     "cell_type": "code",
     "checksum": "468eef6d343bbe19a4be75b9f004aac8",
     "grade": true,
     "grade_id": "cell-6f191043af76b69b",
     "locked": true,
     "points": 1,
     "schema_version": 3,
     "solution": false
    }
   },
   "outputs": [],
   "source": [
    "test_1.3()"
   ]
  },
  {
   "cell_type": "markdown",
   "metadata": {
    "deletable": false,
    "editable": false,
    "nbgrader": {
     "cell_type": "markdown",
     "checksum": "fab63a2e60b50879eafe19e490432084",
     "grade": false,
     "grade_id": "cell-31e7dda7a5b7814f",
     "locked": true,
     "schema_version": 3,
     "solution": false
    }
   },
   "source": [
    "**Question 1.4** \n",
    "\n",
    "What do you notice? Discuss your plot with the person next to you.\n",
    "\n",
    "To further investigate this trend, let's colour the data points to see if the type of avocado (either organic or not, which is called conventional in this data set) affects the volume and price of avocados sold in our region of interest. \n",
    "\n",
    "Run the cell below to colour the data points by avocado type. "
   ]
  },
  {
   "cell_type": "code",
   "execution_count": null,
   "metadata": {},
   "outputs": [],
   "source": [
    "#run this cell to set plot width/height\n",
    "#change the numbers below if the plot doesn't fit on your screen and run again!\n",
    "\n",
    "options(repr.plot.width = 8, repr.plot.height = 6)"
   ]
  },
  {
   "cell_type": "code",
   "execution_count": null,
   "metadata": {
    "deletable": false,
    "editable": false,
    "nbgrader": {
     "cell_type": "code",
     "checksum": "b60fa33065acfd541448f3e8e49c1e62",
     "grade": false,
     "grade_id": "cell-ba37bb6d3cebf7fa",
     "locked": true,
     "schema_version": 3,
     "solution": false,
     "task": false
    }
   },
   "outputs": [],
   "source": [
    "# Run this cell to see if avocado type (the type variable) plays a role in production and price. \n",
    "\n",
    "avocado_plot <- avocado_plot + \n",
    "    geom_point(aes(colour = type)) +\n",
    "    theme(text = element_text(size = 20))\n",
    "avocado_plot"
   ]
  },
  {
   "cell_type": "markdown",
   "metadata": {
    "deletable": false,
    "editable": false,
    "nbgrader": {
     "cell_type": "markdown",
     "checksum": "28cf3a82d994179b1f27b6f646fc7e00",
     "grade": false,
     "grade_id": "cell-928eea37774dbd64",
     "locked": true,
     "schema_version": 3,
     "solution": false
    }
   },
   "source": [
    "**Question 1.4 (Continued)**\n",
    "<br> {points: 3}\n",
    "\n",
    "In 2-3 sentences, describe what you see in the graph above. Comment specifically on whether there is any evidence/indication that avocado type might influence price? \n",
    "\n",
    "*Hint: Make sure to include information about volume, average price, and avocado type in your answer.*"
   ]
  },
  {
   "cell_type": "markdown",
   "metadata": {
    "deletable": false,
    "nbgrader": {
     "cell_type": "markdown",
     "checksum": "b31b210ab0d20a3e11de7be6ebb25c64",
     "grade": true,
     "grade_id": "cell-e78d62d7108e95f4",
     "locked": false,
     "points": 3,
     "schema_version": 3,
     "solution": true
    }
   },
   "source": [
    "DOUBLE CLICK TO EDIT **THIS CELL** AND REPLACE THIS TEXT WITH YOUR ANSWER."
   ]
  },
  {
   "cell_type": "markdown",
   "metadata": {
    "deletable": false,
    "editable": false,
    "nbgrader": {
     "cell_type": "markdown",
     "checksum": "b0b1ee6176c3cb246ee72a621212e2cc",
     "grade": false,
     "grade_id": "cell-fa6a8d66c7fcbba7",
     "locked": true,
     "schema_version": 3,
     "solution": false
    }
   },
   "source": [
    "## 2. Historical Data on Avocado Prices (Continued)\n",
    "**Question 2.1**\n",
    "<br> {points: 3}\n",
    "\n",
    "Now that we know the region that sold the cheapest avocados (on average) in 2018, which region sold the most expensive avocados (on average) in 2018? And for that region, what role might avocado type play in sales? Repeat the analysis you did above, but now apply it to investigate the region which sold the most expensive avocados (on average) in 2018. \n",
    "\n",
    "Remember: we are finding the region that sold the most expensive avocados *in 2018*, but then producing a scatter plot of average price versus total volume sold *for all years*.\n",
    "\n",
    "Name your plot object `priciest_plot`."
   ]
  },
  {
   "cell_type": "code",
   "execution_count": null,
   "metadata": {
    "deletable": false,
    "nbgrader": {
     "cell_type": "code",
     "checksum": "9dabe6def26f89a138a6a0fa550d4222",
     "grade": false,
     "grade_id": "cell-104263366c12cff2",
     "locked": false,
     "schema_version": 3,
     "solution": true,
     "task": false
    }
   },
   "outputs": [],
   "source": [
    "# your code here\n",
    "fail() # No Answer - remove if you provide an answer"
   ]
  },
  {
   "cell_type": "code",
   "execution_count": null,
   "metadata": {
    "deletable": false,
    "editable": false,
    "nbgrader": {
     "cell_type": "code",
     "checksum": "370eb0d78f37b38a2ab3608dd064fbfb",
     "grade": true,
     "grade_id": "cell-7ac36cf31d63967a",
     "locked": true,
     "points": 3,
     "schema_version": 3,
     "solution": false,
     "task": false
    }
   },
   "outputs": [],
   "source": [
    "# check that plot has the correct name\n",
    "test_that('scatter plot should be named priciest_plot', {\n",
    "    expect_true(exists('priciest_plot'))\n",
    "})\n",
    "print('plot has correct name')\n",
    "# The remainder of the tests were intentionally hidden so that you can practice deciding \n",
    "# when you have the correct answer."
   ]
  },
  {
   "cell_type": "markdown",
   "metadata": {
    "deletable": false,
    "editable": false,
    "nbgrader": {
     "cell_type": "markdown",
     "checksum": "2df531bad5c0ec124d441d6eff1d726a",
     "grade": false,
     "grade_id": "cell-d49f0efba3f2c7e6",
     "locked": true,
     "schema_version": 3,
     "solution": false
    }
   },
   "source": [
    "**Question 2.2**\n",
    "<br> {points: 3}\n",
    "\n",
    "In 2-3 sentences, describe what you see in the graph above for the region with the most expensive avocados (on average). Comment specifically on whether there is any evidence/indication that avocado type might influence price.\n",
    "\n",
    "Hint: Make sure to include information about volume, average price, and avocado type in your answer."
   ]
  },
  {
   "cell_type": "markdown",
   "metadata": {
    "deletable": false,
    "nbgrader": {
     "cell_type": "markdown",
     "checksum": "7494099e626df2a8dfca397b2857aa3f",
     "grade": true,
     "grade_id": "cell-7f545602a3272b39",
     "locked": false,
     "points": 3,
     "schema_version": 3,
     "solution": true
    }
   },
   "source": [
    "DOUBLE CLICK TO EDIT **THIS CELL** AND REPLACE THIS TEXT WITH YOUR ANSWER."
   ]
  },
  {
   "cell_type": "markdown",
   "metadata": {
    "deletable": false,
    "editable": false,
    "nbgrader": {
     "cell_type": "markdown",
     "checksum": "2aa833b5f98f1ee830605043e1c14903",
     "grade": false,
     "grade_id": "cell-66cbf11384dd2aba",
     "locked": true,
     "schema_version": 3,
     "solution": false
    }
   },
   "source": [
    "**Question 2.3**\n",
    "<br> {points: 3}\n",
    "\n",
    "Plot the scatterplots for the two regions so that they are in adjacent cells (so it is easier for you to compare them). Compare the price and volume data across the two regions. Then argue for or against the following hypothesis:\n",
    "\n",
    "\"*the region that has the cheapest avocados has them because it sells less of the organic (expensive) type of avocados compared to conventional cheaper ones.*\""
   ]
  },
  {
   "cell_type": "markdown",
   "metadata": {
    "deletable": false,
    "nbgrader": {
     "cell_type": "markdown",
     "checksum": "c82b62fe7f9dcc3833457371bbc1c71b",
     "grade": true,
     "grade_id": "cell-8a0335f1a4e55925",
     "locked": false,
     "points": 3,
     "schema_version": 3,
     "solution": true
    }
   },
   "source": [
    "DOUBLE CLICK TO EDIT **THIS CELL** AND REPLACE THIS TEXT WITH YOUR ANSWER."
   ]
  },
  {
   "cell_type": "markdown",
   "metadata": {
    "deletable": false,
    "editable": false,
    "nbgrader": {
     "cell_type": "markdown",
     "checksum": "9bf4866f5062c1ddecd1b90e1743aadc",
     "grade": false,
     "grade_id": "cell-32381f4be9bd9835",
     "locked": true,
     "schema_version": 3,
     "solution": false,
     "task": false
    }
   },
   "source": [
    "## 3. Sea Surface Salinity in Departure Bay\n",
    "As mentioned in this week's Worksheet, Canada's Department of Fisheries and Oceans (DFO) compiled environmentally essential data from 1914 to 2018. The data was collected at the Pacific Biological Station (Departure Bay). Daily sea surface temperature (degrees Celsius) and salinity (practical salinity units, PSU)observations have been carried out at several locations on the coast of British Columbia. The number of stations reporting at any given time has varied as sampling has been discontinued at some stations, and started or resumed at others.\n",
    "\n",
    "In **Worksheet 3** we already worked with the temperature observations. Now, we will be focusing on salinity! Specifically, we want to see if the monthly maximum salinity has been changing over the years. We will only be focusing our attention on the winter months December, January and February. "
   ]
  },
  {
   "cell_type": "markdown",
   "metadata": {
    "deletable": false,
    "editable": false,
    "nbgrader": {
     "cell_type": "markdown",
     "checksum": "3f32f82a8df7acd2863f8909fbf53f43",
     "grade": false,
     "grade_id": "cell-8d83a7bd71b23da7",
     "locked": true,
     "schema_version": 3,
     "solution": false
    }
   },
   "source": [
    "**Question 3.1**\n",
    "<br> {points: 1}\n",
    "\n",
    "To begin working with this data, read the file `max_salinity.csv` into R. Note, this file (just like the avocado data set) is found within the `tutorial_03` folder. \n",
    "\n",
    "*Assign your answer to an object called `sea_surface`.* "
   ]
  },
  {
   "cell_type": "code",
   "execution_count": null,
   "metadata": {
    "deletable": false,
    "nbgrader": {
     "cell_type": "code",
     "checksum": "1a228da37b770c7ea0d3498facf7ff2f",
     "grade": false,
     "grade_id": "cell-55574ff83fc09393",
     "locked": false,
     "schema_version": 3,
     "solution": true
    }
   },
   "outputs": [],
   "source": [
    "# your code here\n",
    "fail() # No Answer - remove if you provide an answer\n",
    "sea_surface"
   ]
  },
  {
   "cell_type": "code",
   "execution_count": null,
   "metadata": {
    "deletable": false,
    "editable": false,
    "nbgrader": {
     "cell_type": "code",
     "checksum": "baa79b386b69c67e300711b0f04010ad",
     "grade": true,
     "grade_id": "cell-de84354b3e86ef71",
     "locked": true,
     "points": 1,
     "schema_version": 3,
     "solution": false
    }
   },
   "outputs": [],
   "source": [
    "test_3.1()"
   ]
  },
  {
   "cell_type": "markdown",
   "metadata": {
    "deletable": false,
    "editable": false,
    "nbgrader": {
     "cell_type": "markdown",
     "checksum": "3366b3008207e61646c0b36cfda98a6a",
     "grade": false,
     "grade_id": "cell-5d80da4089bdefd1",
     "locked": true,
     "schema_version": 3,
     "solution": false
    }
   },
   "source": [
    "**Question 3.2**\n",
    "<br> {points: 3}\n",
    "\n",
    "Given that `ggplot` prefers tidy data, we must tidy the data! Use the `pivot_longer()` function to create a tidy data frame with three columns: `Year`, `Month` and `Salinity`. Remember we only want to look at the winter months (December, January and February) so don't forget to reduce the data to just those three!\n",
    "\n",
    "*Assign your answer to an object called `max_salinity`.*"
   ]
  },
  {
   "cell_type": "code",
   "execution_count": null,
   "metadata": {
    "deletable": false,
    "nbgrader": {
     "cell_type": "code",
     "checksum": "9b46d723be4c99b49f4860c76a458ac7",
     "grade": false,
     "grade_id": "cell-00ea52ffbda4dc3e",
     "locked": false,
     "schema_version": 3,
     "solution": true,
     "task": false
    }
   },
   "outputs": [],
   "source": [
    "#... <- sea_surface %>%\n",
    "#    ...(...) %>%\n",
    "#    ...(cols = -Year,\n",
    "#                 names_to = '...',\n",
    "#                 values_to = '...') \n",
    "\n",
    "# your code here\n",
    "fail() # No Answer - remove if you provide an answer\n",
    "max_salinity"
   ]
  },
  {
   "cell_type": "code",
   "execution_count": null,
   "metadata": {
    "deletable": false,
    "editable": false,
    "nbgrader": {
     "cell_type": "code",
     "checksum": "4a1a758515597ca2142273c086bf183c",
     "grade": true,
     "grade_id": "cell-26f7f43890bb8500",
     "locked": true,
     "points": 3,
     "schema_version": 3,
     "solution": false,
     "task": false
    }
   },
   "outputs": [],
   "source": [
    "# check that data frame has the correct name\n",
    "test_that('data frame should be named max_salinity', {\n",
    "    expect_true(exists('max_salinity'))\n",
    "})\n",
    "print('data frame has correct name')\n",
    "# The tests were intentionally hidden so that you can practice deciding \n",
    "# when you have the correct answer."
   ]
  },
  {
   "cell_type": "markdown",
   "metadata": {
    "deletable": false,
    "editable": false,
    "nbgrader": {
     "cell_type": "markdown",
     "checksum": "cb0873ccdecda0ca7cc22f4e2ceaa209",
     "grade": false,
     "grade_id": "cell-bb6a22f75e39e0ef",
     "locked": true,
     "schema_version": 3,
     "solution": false
    }
   },
   "source": [
    "**Question 3.3** \n",
    "<br> {points: 3}\n",
    "\n",
    "Now that we've created new columns, we can finally create our plot that compares the maximum salinity observations to the year they were recorded. As usual, label your axes!\n",
    "\n",
    "*Assign your answer to an object called `max_salinity_plot`.*\n",
    "\n",
    "> Hint: do not forget to add units to your axes! Remember from the data description that salinity is measured in practical salinity units (PSU)."
   ]
  },
  {
   "cell_type": "code",
   "execution_count": null,
   "metadata": {
    "deletable": false,
    "nbgrader": {
     "cell_type": "code",
     "checksum": "c9956c205c6ad45cf218c897c3234338",
     "grade": false,
     "grade_id": "cell-69f6981833ae0efa",
     "locked": false,
     "schema_version": 3,
     "solution": true,
     "task": false
    }
   },
   "outputs": [],
   "source": [
    "# your code here\n",
    "fail() # No Answer - remove if you provide an answer\n",
    "max_salinity_plot"
   ]
  },
  {
   "cell_type": "code",
   "execution_count": null,
   "metadata": {
    "deletable": false,
    "editable": false,
    "nbgrader": {
     "cell_type": "code",
     "checksum": "f8b9bf6004705aa70cf5b49919d31b85",
     "grade": true,
     "grade_id": "cell-14402cfa4fcba390",
     "locked": true,
     "points": 3,
     "schema_version": 3,
     "solution": false,
     "task": false
    }
   },
   "outputs": [],
   "source": [
    "# check that plot has the correct name\n",
    "test_that('scatter plot should be named max_salinity_plot', {\n",
    "    expect_true(exists('max_salinity_plot'))\n",
    "})\n",
    "print('plot has correct name')\n",
    "# The tests were intentionally hidden so that you can practice deciding \n",
    "# when you have the correct answer."
   ]
  },
  {
   "cell_type": "markdown",
   "metadata": {
    "deletable": false,
    "editable": false,
    "nbgrader": {
     "cell_type": "markdown",
     "checksum": "5196d48e79e3cda4d577197f506e21cf",
     "grade": false,
     "grade_id": "cell-1aaae9a5be0e2599",
     "locked": true,
     "schema_version": 3,
     "solution": false
    }
   },
   "source": [
    "**Question 3.4**\n",
    "<br> {points: 3}\n",
    "\n",
    "In 1-2 sentences, describe what you see in the graph above. Comment specifically on whether there is a change in salinity across time for the winter months and if there is, whether this indicates a postive or a negative relationship for these variables within this data set. If there is a relationship, also comment on its strength and linearity."
   ]
  },
  {
   "cell_type": "markdown",
   "metadata": {
    "deletable": false,
    "nbgrader": {
     "cell_type": "markdown",
     "checksum": "ebead303c86983984af503065a6587b6",
     "grade": true,
     "grade_id": "cell-6de231c3371760b1",
     "locked": false,
     "points": 3,
     "schema_version": 3,
     "solution": true
    }
   },
   "source": [
    "DOUBLE CLICK TO EDIT **THIS CELL** AND REPLACE THIS TEXT WITH YOUR ANSWER."
   ]
  },
  {
   "cell_type": "markdown",
   "metadata": {
    "deletable": false,
    "editable": false,
    "nbgrader": {
     "cell_type": "markdown",
     "checksum": "7dcc4979c8305974396f2417929044f4",
     "grade": false,
     "grade_id": "cell-7aa79e3fb0edec35",
     "locked": true,
     "schema_version": 3,
     "solution": false
    }
   },
   "source": [
    "## 4. Pollution in Madrid\n",
    "The goal of this analysis (which we started in `worksheet_03`) is to see if pollutants are decreasing (is air quality improving) and also determine which pollutant has decreased the most over the span of 5 years (2001 - 2006). In `worksheet_03` we investigated what happened with the maximum values of each pollutant over time, now we will investigate the average values of each pollutant over time. To do this we will:\n",
    "\n",
    "1. Calculate the average monthly value for each pollutant for each year. \n",
    "2. Create a scatter plot for the average monthly value for each month. Plot these values for each pollutant and each year so that a trend over time for each pollutant can be observed.\n",
    "3. Now we will look at which pollutant decreased the most between 2001 - 2006 when we look at the average instead of the maximum values."
   ]
  },
  {
   "cell_type": "markdown",
   "metadata": {
    "deletable": false,
    "editable": false,
    "nbgrader": {
     "cell_type": "markdown",
     "checksum": "cc0a9b16ccdebc7db5d83add7b6485fe",
     "grade": false,
     "grade_id": "cell-ba2cdf938c61b3a0",
     "locked": true,
     "schema_version": 3,
     "solution": false
    }
   },
   "source": [
    "**Question 4.1** \n",
    "<br> {points: 3}\n",
    "\n",
    "To begin working with this data, read the file `madrid_pollution.csv`. Note, this file (just like the other data sets in this tutorial) is found in the `tutorial_03` directory. \n",
    "\n",
    "*Assign your answer to an object called `madrid`.* "
   ]
  },
  {
   "cell_type": "code",
   "execution_count": null,
   "metadata": {
    "deletable": false,
    "nbgrader": {
     "cell_type": "code",
     "checksum": "f6b8d99861e48e0d41fbc9f9f486f479",
     "grade": false,
     "grade_id": "cell-0adfa4b6087459e1",
     "locked": false,
     "schema_version": 3,
     "solution": true,
     "task": false
    }
   },
   "outputs": [],
   "source": [
    "# your code here\n",
    "fail() # No Answer - remove if you provide an answer\n",
    "madrid"
   ]
  },
  {
   "cell_type": "code",
   "execution_count": null,
   "metadata": {
    "deletable": false,
    "editable": false,
    "nbgrader": {
     "cell_type": "code",
     "checksum": "7a2d6f52605c1ecb73f5731796104a6f",
     "grade": true,
     "grade_id": "cell-91cc20e8abf34cef",
     "locked": true,
     "points": 3,
     "schema_version": 3,
     "solution": false,
     "task": false
    }
   },
   "outputs": [],
   "source": [
    "# check that data frame has the correct name\n",
    "test_that('data frame should be named madrid', {\n",
    "    expect_true(exists('madrid'))\n",
    "})\n",
    "print('data frame has correct name')\n",
    "# The tests were intentionally hidden so that you can practice deciding \n",
    "# when you have the correct answer."
   ]
  },
  {
   "cell_type": "markdown",
   "metadata": {
    "deletable": false,
    "editable": false,
    "nbgrader": {
     "cell_type": "markdown",
     "checksum": "4866e2dee8043910e6a2da1a4ab4d8fd",
     "grade": false,
     "grade_id": "cell-f21c71aa69db9328",
     "locked": true,
     "schema_version": 3,
     "solution": false,
     "task": false
    }
   },
   "source": [
    "Given that we are going to plotting months, which are dates, let's tell R how they should be ordered. We can do this by changing the month column from a character vector to a factor vector. Factors in R are useful for categorical data and they have an order."
   ]
  },
  {
   "cell_type": "code",
   "execution_count": null,
   "metadata": {},
   "outputs": [],
   "source": [
    "# run this cell to order the column month by month (date) and not alphabetically\n",
    "madrid <- madrid %>% \n",
    "    mutate(month = factor(month, levels = c('January','February','March','April',\n",
    "                                            'May','June','July','August',\n",
    "                                            'September','October','November','December')))"
   ]
  },
  {
   "cell_type": "markdown",
   "metadata": {
    "deletable": false,
    "editable": false,
    "nbgrader": {
     "cell_type": "markdown",
     "checksum": "ef856c49322572a288be47caea4377e5",
     "grade": false,
     "grade_id": "cell-b1edb27761679ed8",
     "locked": true,
     "schema_version": 3,
     "solution": false
    }
   },
   "source": [
    "**Question 4.2**\n",
    "<br> {points: 3}\n",
    "\n",
    "Calculate the average monthly value for each pollutant for each year and store that as a data frame. Your data frame should have the following 4 columns:\n",
    "\n",
    "1. `year`\n",
    "2. `month`\n",
    "3. `pollutant`\n",
    "4. `monthly_avg`\n",
    "\n",
    "Name your data frame `madrid_avg`."
   ]
  },
  {
   "cell_type": "code",
   "execution_count": null,
   "metadata": {},
   "outputs": [],
   "source": [
    "madrid"
   ]
  },
  {
   "cell_type": "code",
   "execution_count": null,
   "metadata": {
    "deletable": false,
    "nbgrader": {
     "cell_type": "code",
     "checksum": "b25f8fa7e7731857af299abf9a5e3746",
     "grade": false,
     "grade_id": "cell-b6955ba6688573e8",
     "locked": false,
     "schema_version": 3,
     "solution": true,
     "task": false
    }
   },
   "outputs": [],
   "source": [
    "# your code here\n",
    "fail() # No Answer - remove if you provide an answer"
   ]
  },
  {
   "cell_type": "code",
   "execution_count": null,
   "metadata": {
    "deletable": false,
    "editable": false,
    "nbgrader": {
     "cell_type": "code",
     "checksum": "aae66d2b8bea8b4078fc956df9b45201",
     "grade": true,
     "grade_id": "cell-798eeb4501f741e9",
     "locked": true,
     "points": 3,
     "schema_version": 3,
     "solution": false,
     "task": false
    }
   },
   "outputs": [],
   "source": [
    "# check that data frame has the correct name\n",
    "test_that('data frame should be named madrid_avg', {\n",
    "    expect_true(exists('madrid_avg'))\n",
    "})\n",
    "print('data frame has correct name')\n",
    "# The tests were intentionally hidden so that you can practice deciding \n",
    "# when you have the correct answer."
   ]
  },
  {
   "cell_type": "markdown",
   "metadata": {
    "deletable": false,
    "editable": false,
    "nbgrader": {
     "cell_type": "markdown",
     "checksum": "7e17a91bf7179e35709804ecabfb29db",
     "grade": false,
     "grade_id": "cell-0b5316ca1c1004ce",
     "locked": true,
     "schema_version": 3,
     "solution": false
    }
   },
   "source": [
    "**Question 4.3**\n",
    "<br> {points: 3}\n",
    "\n",
    "Create a scatter plot for the average monthly value for each month. Plot these values for each pollutant and each year so that a trend over time for each pollutant can be observed. To do this all in one plot, you are going to want to use a `facet_grid` layer (makes subplots within one plot when data are \"related\") and a `theme` layer (to adjust the angle of the text on the x-axis. We provide you with the code for these two layers in the scaffolding for this plot."
   ]
  },
  {
   "cell_type": "code",
   "execution_count": null,
   "metadata": {
    "deletable": false,
    "nbgrader": {
     "cell_type": "code",
     "checksum": "645e9972a89fd07d6e1de5203546c6be",
     "grade": true,
     "grade_id": "cell-14ad5786143dc25c",
     "locked": false,
     "points": 3,
     "schema_version": 3,
     "solution": true
    }
   },
   "outputs": [],
   "source": [
    "options(repr.plot.width = 16, repr.plot.height = 18)\n",
    "#pollutant_labels <- c(BEN = \"Benzene \\n(μg/m³)\", \n",
    "#                    CO = \"Carbon \\nmonoxide \\n(mg/m³)\", \n",
    "#                    EBE = \"Ethylbenzene \\n(μg/m³)\",\n",
    "#                    MXY = \"M-xylene \\n(μg/m³)\", \n",
    "#                    NMHC = \"Non-methane \\nhydrocarbons \\n(mg/m³)\",\n",
    "#                    NO_2 = \"Nitrogen \\ndioxide \\n(μg/m³)\",\n",
    "#                    NOx = \"Nitrous \\noxides \\n(μg/m³)\",\n",
    "#                    O_3 = \"Ozone \\n(μg/m³)\",\n",
    "#                    OXY = \"O-xylene \\n(μg/m³)\",\n",
    "#                    PM10 = \"Particles \\nsmaller than 10 μm\",\n",
    "#                    PXY = \"P-xylene \\n(μg/m³)\",\n",
    "#                    SO_2 = \"Sulphur \\ndioxide \\n(μg/m³)\",\n",
    "#                    TCH = \"Total \\nhydrocarbons \\n(mg/m³)\",\n",
    "#                    TOL = \"Toluene \\n(μg/m³)\")\n",
    "#\n",
    "#... <- ... %>%\n",
    "#    ggplot(aes(x = ..., y = ...)) + \n",
    "#    geom_point() +\n",
    "#    xlab(...) + \n",
    "#    ylab(...) +\n",
    "#    facet_grid(pollutant ~ year, scales = \"free\",\n",
    "#               switch = \"y\", \n",
    "#               labeller = labeller(pollutant = pollutant_labels)) +\n",
    "#    theme(axis.text.x = element_text(angle = 90, hjust = 1),\n",
    "#         strip.text.y.left = element_text(angle = 0),\n",
    "#         text = element_text(size = 20))\n",
    "\n",
    "# your code here\n",
    "fail() # No Answer - remove if you provide an answer\n",
    "madrid_avg_plot"
   ]
  },
  {
   "cell_type": "markdown",
   "metadata": {
    "deletable": false,
    "editable": false,
    "nbgrader": {
     "cell_type": "markdown",
     "checksum": "9eaa8a6177dbdf2251b8401736a71be1",
     "grade": false,
     "grade_id": "cell-f66209e00bf1f868",
     "locked": true,
     "schema_version": 3,
     "solution": false
    }
   },
   "source": [
    "**Question 4.4**\n",
    "<br> {points: 3}\n",
    "\n",
    "By looking at the plots above, which monthly average pollutant levels appear to have decreased over time? Which appear to have increased?"
   ]
  },
  {
   "cell_type": "markdown",
   "metadata": {
    "deletable": false,
    "nbgrader": {
     "cell_type": "markdown",
     "checksum": "a03ea076c228198f95236e120cf39fae",
     "grade": true,
     "grade_id": "cell-35d9d8e83078c1bd",
     "locked": false,
     "points": 3,
     "schema_version": 3,
     "solution": true
    }
   },
   "source": [
    "DOUBLE CLICK TO EDIT **THIS CELL** AND REPLACE THIS TEXT WITH YOUR ANSWER."
   ]
  },
  {
   "cell_type": "markdown",
   "metadata": {
    "deletable": false,
    "editable": false,
    "nbgrader": {
     "cell_type": "markdown",
     "checksum": "67889c32dc6c2504bbd3a274cbb5ef74",
     "grade": false,
     "grade_id": "cell-d2101e0e525ccbe8",
     "locked": true,
     "schema_version": 3,
     "solution": false
    }
   },
   "source": [
    "**Question 4.5**\n",
    "<br> {points: 3}\n",
    "\n",
    "Now we will look at which pollutant decreased the most between 2001 - 2006 when we look at the average yearly values for each pollutant. Your final result should be a data frame that has at least these two columns: pollutant and yearly_avg_diff and one row (the most decreased pollutant when looking at yearly average between 2001 - 2006). **Make sure to use the ```madrid_avg``` data frame in your solution.**\n",
    "\n",
    "*There are several different ways to solve this problem. My solution included using a function called `pivot_wider` which is the inverse of `pivot_longer`. If you would like to use that function, see [here](https://ubc-dsci.github.io/introduction-to-datascience/wrangling.html#going-from-long-to-wide-using-pivot_wider) for more info.*"
   ]
  },
  {
   "cell_type": "code",
   "execution_count": null,
   "metadata": {
    "deletable": false,
    "nbgrader": {
     "cell_type": "code",
     "checksum": "8cf8fef8c81852b1ec98b594d87e9958",
     "grade": true,
     "grade_id": "cell-66eb57edba443a5f",
     "locked": false,
     "points": 3,
     "schema_version": 3,
     "solution": true
    }
   },
   "outputs": [],
   "source": [
    "# your code here\n",
    "fail() # No Answer - remove if you provide an answer"
   ]
  },
  {
   "cell_type": "markdown",
   "metadata": {
    "deletable": false,
    "editable": false,
    "nbgrader": {
     "cell_type": "markdown",
     "checksum": "cf5d8df4e023efaa89f4df2e8b90adc1",
     "grade": false,
     "grade_id": "cell-1fa8d253f8b2029b",
     "locked": true,
     "schema_version": 3,
     "solution": false
    }
   },
   "source": [
    "**Question 4.6** \n",
    "<br> {points: 3}\n",
    "\n",
    "Did using the average to find the most decreased pollutant between 2001 and 2006 give you the same answer as using the maximum in the worksheet? Is your answer to the previous question surprising? Explain."
   ]
  },
  {
   "cell_type": "markdown",
   "metadata": {
    "deletable": false,
    "nbgrader": {
     "cell_type": "markdown",
     "checksum": "8b8cfcabb10f44ac73fe999b9c3fb6a9",
     "grade": true,
     "grade_id": "cell-a09605820664ae4d",
     "locked": false,
     "points": 3,
     "schema_version": 3,
     "solution": true
    }
   },
   "source": [
    "DOUBLE CLICK TO EDIT **THIS CELL** AND REPLACE THIS TEXT WITH YOUR ANSWER."
   ]
  },
  {
   "cell_type": "markdown",
   "metadata": {
    "deletable": false,
    "editable": false,
    "nbgrader": {
     "cell_type": "markdown",
     "checksum": "6c1f2648886310bdda5c08c2108f497d",
     "grade": false,
     "grade_id": "cell-06054c4b8f848cfc",
     "locked": true,
     "schema_version": 3,
     "solution": false
    }
   },
   "source": [
    "**Optional Question** \n",
    "<br>(for fun and does not count for grades):\n",
    "\n",
    "Consider doing the same analysis as you did for Question 4.5, except this time calculate the difference as a percent or fold difference (as opposed to absolute difference as we did in Question 4.5). The scales for the pollutants are very different, and so we might want to take this into consideration when trying to answer the question \"Which pollutant decreased the most\"?"
   ]
  },
  {
   "cell_type": "code",
   "execution_count": null,
   "metadata": {},
   "outputs": [],
   "source": [
    "# Your optional answer goes here"
   ]
  },
  {
   "cell_type": "code",
   "execution_count": null,
   "metadata": {
    "deletable": false,
    "editable": false,
    "nbgrader": {
     "cell_type": "code",
     "checksum": "0d85fb43130d3bcda8947798f5e7087a",
     "grade": false,
     "grade_id": "cell-7825e0429c4b461f",
     "locked": true,
     "schema_version": 3,
     "solution": false,
     "task": false
    }
   },
   "outputs": [],
   "source": [
    "source(\"cleanup_tutorial_03.R\")"
   ]
  }
 ],
 "metadata": {
  "kernelspec": {
   "display_name": "R",
   "language": "R",
   "name": "ir"
  },
  "language_info": {
   "codemirror_mode": "r",
   "file_extension": ".r",
   "mimetype": "text/x-r-source",
   "name": "R",
   "pygments_lexer": "r",
   "version": "4.0.0"
  }
 },
 "nbformat": 4,
 "nbformat_minor": 2
}
