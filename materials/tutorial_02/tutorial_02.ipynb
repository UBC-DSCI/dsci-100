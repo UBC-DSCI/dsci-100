{
 "cells": [
  {
   "cell_type": "markdown",
   "metadata": {
    "deletable": false,
    "editable": false,
    "nbgrader": {
     "cell_type": "markdown",
     "checksum": "e2f80de66edaa19fcba576f3e6b797c4",
     "grade": false,
     "grade_id": "cell-48e0878ab9822be7",
     "locked": true,
     "schema_version": 3,
     "solution": false,
     "task": false
    }
   },
   "source": [
    "# Tutorial 2: Introduction to Reading Data\n",
    "\n",
    "Lecture and Tutorial Learning Goals:\n",
    "\n",
    "After completing this week's lecture and tutorial work, you will be able to:\n",
    "\n",
    "- define the following:\n",
    "  - absolute file path\n",
    "  - relative file path\n",
    "  - url\n",
    "- read data into R using a relative path and a url\n",
    "- compare and contrast the following functions:\n",
    "  - `read_csv`\n",
    "  - `read_tsv`\n",
    "  - `read_csv2`\n",
    "  - `read_delim`\n",
    "  - `read_excel`\n",
    "- match the following `tidyverse` `read_*` function arguments to their descriptions:\n",
    "  - `file`\n",
    "  - `delim`\n",
    "  - `col_names`\n",
    "  - `skip`\n",
    "- choose the appropriate `tidyverse` `read_*` function and function arguments to load a given plain text tabular data set into R\n",
    "- use `readxl` library's `read_excel` function and arguments to load a sheet from an excel file into R\n",
    "- connect to a database using the `DBI` library's `dbConnect` function\n",
    "- list the tables in a database using the `DBI` library's `dbListTables `function\n",
    "- create a reference to a database table that is queriable using the `tbl` from the `dbplyr` library\n",
    "- retrieve data from a database query and bring it into R using the `collect` function from the `dbplyr` library\n",
    "- use `write_csv` to save a data frame to a csv file\n",
    "- _optional:_ scrape data from the web\n",
    "  - read/scrape data from an internet URL using the `rvest` `html_nodes` and `html_text` functions\n",
    "  - compare downloading tabular data from a plain text file (e.g. `*.csv`) from the web versus scraping data from a `.html` file\n",
    "\n",
    "Any place you see `...`, you must fill in the function, variable, or data to complete the code. Replace `fail()` with your completed code and run the cell!"
   ]
  },
  {
   "cell_type": "code",
   "execution_count": null,
   "metadata": {
    "deletable": false,
    "editable": false,
    "nbgrader": {
     "cell_type": "code",
     "checksum": "585e6bac79590dbcd8771ac86206cd1b",
     "grade": false,
     "grade_id": "cell-b44a86895fe6acc9",
     "locked": true,
     "schema_version": 3,
     "solution": false,
     "task": false
    }
   },
   "outputs": [],
   "source": [
    "### Run this cell before continuing. \n",
    "library(tidyverse)\n",
    "library(repr)\n",
    "library(rvest)\n",
    "library(stringr)\n",
    "options(repr.matrix.max.rows = 6)\n",
    "source(\"tests_tutorial_02.R\")\n",
    "source(\"cleanup_tutorial_02.R\")"
   ]
  },
  {
   "cell_type": "markdown",
   "metadata": {
    "deletable": false,
    "editable": false,
    "nbgrader": {
     "cell_type": "markdown",
     "checksum": "6be4509f84d5f106e53d65d3319ac5a7",
     "grade": false,
     "grade_id": "cell-eb886aee74edfc54",
     "locked": true,
     "schema_version": 3,
     "solution": false,
     "task": false
    }
   },
   "source": [
    "## 1. Happiness Report\n",
    "As you might remember from `worksheet_02`, we practised loading data from the *Sustainable Development Solutions Network's* [World Happiness Report](http://worldhappiness.report/). That data was the output of their analysis that calculated each country's happiness score and how much each variable contributed to it. In this tutorial, we are going to look at the data at an earlier stage of the study - the aggregated/averaged values (per country and year) for many different social and health aspects that the researchers anticipated might contribute to happiness (Table2.1 from [this Excel spreadsheet](https://s3.amazonaws.com/happiness-report/2018/WHR2018Chapter2OnlineData.xls)).\n",
    "\n",
    "The goal for today is to produce a plot of 2017's positive affect scores against healthy life expectancy at birth, with healthy life expectancy at birth on the x-axis and positive affect on the y-axis. For this study, positive affect was defined as the average of three positive affect measures: happiness, laughter and enjoyment. We would also like to convert the **positive affect score** from a scale of 0 - 1 to a scale from 0 - 10.\n",
    "\n",
    "1. use `filter` to subset the rows where the year is equal to 2017\n",
    "2. use `mutate` to convert the \"Positive affect\" score from a scale of 0 - 1 to a scale from 0 - 10\n",
    "3. use `select` to choose the \"Healthy life expectancy at birth\" column and the scaled \"Positive affect\" column\n",
    "4. use `ggplot` to create our plot of \"Healthy life expectancy at birth\" (x - axis) and scaled \"Positive affect\" (y - axis)\n",
    "\n",
    "**Tips for success:** Try going through all of the steps on your own, but don't forget to discuss with others (classmates, TAs, or an instructor) if you get stuck. If something is wrong and you can't spot the issue, be sure to **read the error message carefully**. Since there are a lot of steps involved in working with data and modifying it, feel free to look back at `worksheet_02`. "
   ]
  },
  {
   "cell_type": "markdown",
   "metadata": {
    "deletable": false,
    "editable": false,
    "nbgrader": {
     "cell_type": "markdown",
     "checksum": "37a6d8344030eee1db59b4fccb30bfb4",
     "grade": false,
     "grade_id": "cell-eaa4671c9bc261f5",
     "locked": true,
     "schema_version": 3,
     "solution": false
    }
   },
   "source": [
    "**Question 1.1** Multiple Choice: \n",
    "<br> {points: 1}\n",
    "\n",
    "What is the maximum value for the \"Positive affect\" score (in the original data file that you read into R)?\n",
    "\n",
    "A. 100\n",
    "\n",
    "B. 10 \n",
    "\n",
    "C. 1\n",
    "\n",
    "D. 0.1\n",
    "\n",
    "E. 5\n",
    "\n",
    "*Assign your answer to an object called `answer1.1`. Make sure your answer is an uppercase letter and is surrounded by quotation marks (e.g. `\"F\"`).*"
   ]
  },
  {
   "cell_type": "code",
   "execution_count": null,
   "metadata": {
    "deletable": false,
    "nbgrader": {
     "cell_type": "code",
     "checksum": "7937fb7a6cf13876c1ae26e612878be2",
     "grade": false,
     "grade_id": "cell-e18dc09310ee7801",
     "locked": false,
     "schema_version": 3,
     "solution": true
    }
   },
   "outputs": [],
   "source": [
    "# Replace the fail() with your answer. \n",
    "\n",
    "# your code here\n",
    "fail() # No Answer - remove if you provide an answer"
   ]
  },
  {
   "cell_type": "code",
   "execution_count": null,
   "metadata": {
    "deletable": false,
    "editable": false,
    "nbgrader": {
     "cell_type": "code",
     "checksum": "4d894fb26d20bb6cab2729664ecf4364",
     "grade": true,
     "grade_id": "cell-f1313c7d1348ac8c",
     "locked": true,
     "points": 1,
     "schema_version": 3,
     "solution": false
    }
   },
   "outputs": [],
   "source": [
    "test_1.1()"
   ]
  },
  {
   "cell_type": "markdown",
   "metadata": {
    "deletable": false,
    "editable": false,
    "nbgrader": {
     "cell_type": "markdown",
     "checksum": "fb1ec2ff5768f7d6f3a92ece79a7b4c5",
     "grade": false,
     "grade_id": "cell-27175166f20aece1",
     "locked": true,
     "schema_version": 3,
     "solution": false
    }
   },
   "source": [
    "**Question 1.2** Multiple Choice: \n",
    "<br> {points: 1}\n",
    "\n",
    "Which column's values will be used to filter the data?\n",
    "\n",
    "A. `countries`\n",
    "\n",
    "B. `generosity`\n",
    "\n",
    "C. `positive affect`\n",
    "\n",
    "D. `year`\n",
    "\n",
    "*Assign your answer to an object called `answer1.2`. Make sure your answer is an uppercase letter and is surrounded by quotation marks (e.g. `\"F\"`).*"
   ]
  },
  {
   "cell_type": "code",
   "execution_count": null,
   "metadata": {
    "deletable": false,
    "nbgrader": {
     "cell_type": "code",
     "checksum": "7f6cbacec4d37179fc5f07eae3cf58c2",
     "grade": false,
     "grade_id": "cell-16da567171536519",
     "locked": false,
     "schema_version": 3,
     "solution": true
    }
   },
   "outputs": [],
   "source": [
    "# Replace the fail() with your answer. \n",
    "\n",
    "# your code here\n",
    "fail() # No Answer - remove if you provide an answer"
   ]
  },
  {
   "cell_type": "code",
   "execution_count": null,
   "metadata": {
    "deletable": false,
    "editable": false,
    "nbgrader": {
     "cell_type": "code",
     "checksum": "cf3e841faeaed27e4ff1ecbdcf588ef5",
     "grade": true,
     "grade_id": "cell-8bd586d238ebce67",
     "locked": true,
     "points": 1,
     "schema_version": 3,
     "solution": false
    }
   },
   "outputs": [],
   "source": [
    "test_1.2()"
   ]
  },
  {
   "cell_type": "markdown",
   "metadata": {
    "deletable": false,
    "editable": false,
    "nbgrader": {
     "cell_type": "markdown",
     "checksum": "5ed096523ac72dce4449a68117419cd8",
     "grade": false,
     "grade_id": "cell-c9e29373e8731516",
     "locked": true,
     "schema_version": 3,
     "solution": false
    }
   },
   "source": [
    "**Question 1.3.0**\n",
    "<br> {points: 1}\n",
    "\n",
    "Use the appropriate `read_*` function to read in the `WHR2018Chapter2OnlineData` (look in the `tutorial_02` directory to ensure you use the correct relative path to read it in).\n",
    "\n",
    "_Assign the data frame to an object called `happy_df_csv`._"
   ]
  },
  {
   "cell_type": "code",
   "execution_count": null,
   "metadata": {
    "deletable": false,
    "nbgrader": {
     "cell_type": "code",
     "checksum": "493a16fed4eb890dd85964b49d8ad893",
     "grade": false,
     "grade_id": "cell-be35369b600c489e",
     "locked": false,
     "schema_version": 3,
     "solution": true
    }
   },
   "outputs": [],
   "source": [
    "# your code here\n",
    "fail() # No Answer - remove if you provide an answer\n",
    "happy_df_csv"
   ]
  },
  {
   "cell_type": "code",
   "execution_count": null,
   "metadata": {
    "deletable": false,
    "editable": false,
    "nbgrader": {
     "cell_type": "code",
     "checksum": "f2527c17032e3e7cafbd75a8276ec32e",
     "grade": true,
     "grade_id": "cell-41eb2114195d336c",
     "locked": true,
     "points": 1,
     "schema_version": 3,
     "solution": false
    }
   },
   "outputs": [],
   "source": [
    "test_1.3.0()"
   ]
  },
  {
   "cell_type": "markdown",
   "metadata": {
    "deletable": false,
    "editable": false,
    "nbgrader": {
     "cell_type": "markdown",
     "checksum": "870ef71915f16264714ea950d2ca8d35",
     "grade": false,
     "grade_id": "cell-ca7dbd5d07447573",
     "locked": true,
     "schema_version": 3,
     "solution": false
    }
   },
   "source": [
    "**Question 1.3.1**\n",
    "<br> {points: 1}\n",
    "\n",
    "Above, you loaded the data from a file we already downloaded and converted to a `.csv` for you. But you can also use the `readxl` R package to directly load in Excel files into R. Given that the data we loaded above (`WHR2018Chapter2OnlineData.csv`) was originally sourced from an Excel file on the web, let's now directly read that Excel file into R using the `read_excel` function from that package. This Excel file has multiple sheets, the data we want is on the first one.\n",
    "\n",
    "> **Note:**\n",
    "> `read_excel` does not support putting a URL as the file path argument. So we need to first download the file and write it to disk using R's `download.file` function, and then we can read that saved Excel file into R using `read_excel`.\n",
    "\n",
    "To answer the question, fill in the blanks in the code below. If you are unsure, try reading the documentation for the new functions and ask others for help!\n",
    "\n",
    "Assign the data into an object called `happy_df`."
   ]
  },
  {
   "cell_type": "code",
   "execution_count": null,
   "metadata": {
    "deletable": false,
    "nbgrader": {
     "cell_type": "code",
     "checksum": "3fdf9dde9551a36b7beff1233267ab04",
     "grade": false,
     "grade_id": "cell-a8a3d64de1b87550",
     "locked": false,
     "schema_version": 3,
     "solution": true
    }
   },
   "outputs": [],
   "source": [
    "library(readxl)\n",
    "url <- \"https://s3.amazonaws.com/happiness-report/2018/WHR2018Chapter2OnlineData.xls\"\n",
    "\n",
    "# download.file(..., destfile = \"data/WHR2018Chapter2OnlineData.xls\")\n",
    "#... <- read_excel(path = ..., sheet = ...)\n",
    "\n",
    "# your code here\n",
    "fail() # No Answer - remove if you provide an answer\n",
    "happy_df"
   ]
  },
  {
   "cell_type": "code",
   "execution_count": null,
   "metadata": {
    "deletable": false,
    "editable": false,
    "nbgrader": {
     "cell_type": "code",
     "checksum": "da51e83d827b4581bb4ba8af7c79a131",
     "grade": true,
     "grade_id": "cell-476734f8979f1d94",
     "locked": true,
     "points": 1,
     "schema_version": 3,
     "solution": false
    }
   },
   "outputs": [],
   "source": [
    "test_1.3.1()"
   ]
  },
  {
   "cell_type": "markdown",
   "metadata": {
    "deletable": false,
    "editable": false,
    "nbgrader": {
     "cell_type": "markdown",
     "checksum": "44796b5187d55eb73ed037c4c0a30f1f",
     "grade": false,
     "grade_id": "cell-dd53d9426f770204",
     "locked": true,
     "schema_version": 3,
     "solution": false,
     "task": false
    }
   },
   "source": [
    "Look at the column names - they contain spaces!!! This is not a best practice and will make it difficult to use our tidyverse functions... Run the cell below to use the `make.names` function that will replace all the spaces with a `.` so we don't have this problem. The `colnames` function is also needed to access the data frame's column names."
   ]
  },
  {
   "cell_type": "code",
   "execution_count": null,
   "metadata": {
    "deletable": false,
    "editable": false,
    "nbgrader": {
     "cell_type": "code",
     "checksum": "eb2ecc6383339a1e455b40c0e7af531e",
     "grade": false,
     "grade_id": "cell-9c32e67162641321",
     "locked": true,
     "schema_version": 3,
     "solution": false,
     "task": false
    }
   },
   "outputs": [],
   "source": [
    "### Run this cell before continuing. \n",
    "colnames(happy_df) <- make.names(colnames(happy_df))\n",
    "happy_df"
   ]
  },
  {
   "cell_type": "markdown",
   "metadata": {
    "deletable": false,
    "editable": false,
    "nbgrader": {
     "cell_type": "markdown",
     "checksum": "c47e38818ac6ac04cf621a810f0cab8a",
     "grade": false,
     "grade_id": "cell-49c7adc814e9dd9e",
     "locked": true,
     "schema_version": 3,
     "solution": false
    }
   },
   "source": [
    "**Question 1.3.2**\n",
    "<br> {points: 1}\n",
    "\n",
    "Using the scaffolding given in the cell below, `filter`, `mutate`, and `select` the `happy_df` data frame as needed to get it ready to create our desired scatterplot. Recall that we wanted to rescale the \"Positive affect\" scores so that they fall in the range 0-10 instead of 0-1. Call the new, re-scaled column `Positive.affect.scaled`.\n",
    "\n",
    "_Assign the data frame containing only the columns we need to create our plot to an object called `reduced_happy_df`._"
   ]
  },
  {
   "cell_type": "code",
   "execution_count": null,
   "metadata": {
    "deletable": false,
    "nbgrader": {
     "cell_type": "code",
     "checksum": "d32a1a226f16de3904ce8332d918f966",
     "grade": false,
     "grade_id": "cell-726859a91d715048",
     "locked": false,
     "schema_version": 3,
     "solution": true
    }
   },
   "outputs": [],
   "source": [
    "# happy_step1 <- ...(happy_df, year == ...)\n",
    "# happy_step2 <- mutate(happy_step1, Positive.affect.scaled = ...)\n",
    "# reduced_happy_df <- ...(happy_step2, ..., ...)\n",
    "\n",
    "# your code here\n",
    "fail() # No Answer - remove if you provide an answer\n",
    "reduced_happy_df"
   ]
  },
  {
   "cell_type": "code",
   "execution_count": null,
   "metadata": {
    "deletable": false,
    "editable": false,
    "nbgrader": {
     "cell_type": "code",
     "checksum": "04f40aade85d3627f27057d86431cef3",
     "grade": true,
     "grade_id": "cell-dec4163f6664b7f2",
     "locked": true,
     "points": 1,
     "schema_version": 3,
     "solution": false
    }
   },
   "outputs": [],
   "source": [
    "test_1.3.2()"
   ]
  },
  {
   "cell_type": "markdown",
   "metadata": {
    "deletable": false,
    "editable": false,
    "nbgrader": {
     "cell_type": "markdown",
     "checksum": "9cf6a7ffbeb370a19cd9fb771c5f1c29",
     "grade": false,
     "grade_id": "cell-b10df2cccd63b024",
     "locked": true,
     "schema_version": 3,
     "solution": false
    }
   },
   "source": [
    "**Question 1.4** \n",
    "<br> {points: 1}\n",
    "\n",
    "Using the modified data set, `reduced_happy_df`, generate the scatterplot described above and make sure to label the axes in proper written English.\n",
    "\n",
    "_Assign your plot to an object called `happy_plot`._"
   ]
  },
  {
   "cell_type": "code",
   "execution_count": null,
   "metadata": {
    "deletable": false,
    "nbgrader": {
     "cell_type": "code",
     "checksum": "8911b30b29c23de6d449bddf4f5ff16f",
     "grade": false,
     "grade_id": "cell-09cd90fd47b394d3",
     "locked": false,
     "schema_version": 3,
     "solution": true
    }
   },
   "outputs": [],
   "source": [
    "options(repr.plot.width = 8, repr.plot.height = 8)\n",
    "\n",
    "#... <- ggplot(reduced_happy_df, ...(x = ..., y = ...)) + \n",
    "#     geom_...() + \n",
    "#     ...(\"...\") + \n",
    "#     ylab(\"Positive affect score (out of ...)\")\n",
    "\n",
    "# your code here\n",
    "fail() # No Answer - remove if you provide an answer\n",
    "happy_plot"
   ]
  },
  {
   "cell_type": "code",
   "execution_count": null,
   "metadata": {
    "deletable": false,
    "editable": false,
    "nbgrader": {
     "cell_type": "code",
     "checksum": "23497517b767bb02b9bc2129e8ab3ba3",
     "grade": true,
     "grade_id": "cell-cc81148d52ca3d36",
     "locked": true,
     "points": 1,
     "schema_version": 3,
     "solution": false
    }
   },
   "outputs": [],
   "source": [
    "test_1.4()"
   ]
  },
  {
   "cell_type": "markdown",
   "metadata": {
    "deletable": false,
    "editable": false,
    "nbgrader": {
     "cell_type": "markdown",
     "checksum": "70ab42c2c3aed4c1653f46ee472ce320",
     "grade": false,
     "grade_id": "cell-74a8b29302c03111",
     "locked": true,
     "schema_version": 3,
     "solution": false
    }
   },
   "source": [
    "**Question 1.5** \n",
    "<br> {points: 3}\n",
    "\n",
    "In one sentence or two, describe what you see in the scatterplot above. Does there appear to be a relationship between life expectancy at birth and postive affect? If so, describe it."
   ]
  },
  {
   "cell_type": "markdown",
   "metadata": {
    "deletable": false,
    "nbgrader": {
     "cell_type": "markdown",
     "checksum": "ab65b7b60380bfb3a1917802ab42c04a",
     "grade": true,
     "grade_id": "cell-454d6ac241520540",
     "locked": false,
     "points": 3,
     "schema_version": 3,
     "solution": true
    }
   },
   "source": [
    "DOUBLE CLICK TO EDIT **THIS CELL** AND REPLACE THIS TEXT WITH YOUR ANSWER."
   ]
  },
  {
   "cell_type": "markdown",
   "metadata": {
    "deletable": false,
    "editable": false,
    "nbgrader": {
     "cell_type": "markdown",
     "checksum": "9579df10919542146f84d334f0ec4953",
     "grade": false,
     "grade_id": "cell-f2bcf671c8edd2bf",
     "locked": true,
     "schema_version": 3,
     "solution": false
    }
   },
   "source": [
    "**Question 1.6** \n",
    "<br> {points: 3}\n",
    "\n",
    "Choose any variable (column) in the data set `happy_df` other than `Positive.affect` to plot against healthy life expectancy at birth. **You should NOT scale whichever variable you choose.** Ensure that healthy life expectancy at birth is on the x-axis and that you give your axes human-readable labels.\n",
    "\n",
    "_Assign your plot to an object called `happy_plot_2`._"
   ]
  },
  {
   "cell_type": "code",
   "execution_count": null,
   "metadata": {
    "deletable": false,
    "nbgrader": {
     "cell_type": "code",
     "checksum": "c2d835742c77aa700eddd3ff867a1de0",
     "grade": false,
     "grade_id": "cell-1a67703036cd347d",
     "locked": false,
     "schema_version": 3,
     "solution": true,
     "task": false
    }
   },
   "outputs": [],
   "source": [
    "# your code here\n",
    "fail() # No Answer - remove if you provide an answer"
   ]
  },
  {
   "cell_type": "code",
   "execution_count": null,
   "metadata": {
    "deletable": false,
    "editable": false,
    "nbgrader": {
     "cell_type": "code",
     "checksum": "0dec01dd4cf70896507cf9f75ef0f957",
     "grade": true,
     "grade_id": "cell-3fd42dbb922e5fd8",
     "locked": true,
     "points": 3,
     "schema_version": 3,
     "solution": false,
     "task": false
    }
   },
   "outputs": [],
   "source": [
    "# Here we check whether you have the correct object name(s). However,\n",
    "# all other tests were intentionally hidden so that you can practice deciding \n",
    "# when you have the correct answer.\n",
    "test_that(\"Did not create an object named happy_plot_2\", {\n",
    "    expect_true(exists(\"happy_plot_2\")) \n",
    "})"
   ]
  },
  {
   "cell_type": "markdown",
   "metadata": {
    "deletable": false,
    "editable": false,
    "nbgrader": {
     "cell_type": "markdown",
     "checksum": "832b16230229cdcd3a7a1e4067a4bad9",
     "grade": false,
     "grade_id": "cell-a9da33d0a45bb495",
     "locked": true,
     "schema_version": 3,
     "solution": false
    }
   },
   "source": [
    "**Question 1.7**\n",
    "<br> {points: 3}\n",
    "\n",
    "In a sentence or two, describe what you see in the scatterplot above. Does there appear to be a relationship between healthy life expectancy at birth and the other variable you plotted? If so, describe it."
   ]
  },
  {
   "cell_type": "markdown",
   "metadata": {
    "deletable": false,
    "nbgrader": {
     "cell_type": "markdown",
     "checksum": "e94843b2cfe557d32464460fe171f40e",
     "grade": true,
     "grade_id": "cell-f324f67cb0ef5682",
     "locked": false,
     "points": 3,
     "schema_version": 3,
     "solution": true
    }
   },
   "source": [
    "DOUBLE CLICK TO EDIT **THIS CELL** AND REPLACE THIS TEXT WITH YOUR ANSWER."
   ]
  },
  {
   "cell_type": "markdown",
   "metadata": {
    "deletable": false,
    "editable": false,
    "nbgrader": {
     "cell_type": "markdown",
     "checksum": "926ddedabd6ae8e93d0fdb816abd0e68",
     "grade": false,
     "grade_id": "cell-c5375f89b178b96d",
     "locked": true,
     "schema_version": 3,
     "solution": false,
     "task": false
    }
   },
   "source": [
    "## 2. Whistler Snow\n",
    "\n",
    "Skiing and snowboarding are huge in British Columbia. Some of the best slopes for snow sports are quite close. In fact, the famous mountain-bearing city of Whistler is just two hours north of Vancouver. With cold weather and plenty of snowfall, Whistler is an ideal destination for winter sports fanatics. \n",
    "\n",
    "One thing skiers and snowboarders want is fresh snow! When are they most likely to find this? In the `data` directory, we have two-year-long data sets from [Environment Canada from the Whistler Roundhouse Station](http://climate.weather.gc.ca/historical_data/search_historic_data_stations_e.html?StationID=348&Year=2007&Month=3&Day=1&timeframe=2&type=bar&MeasTypeID=snow&searchType=stnProx&txtRadius=25&optProxType=navLink&txtLatDecDeg=50.128889166667&txtLongDecDeg=122.95483333333&optLimit=specDate&selRowPerPage=25&station=WHISTLER) (on Whistler mountain). This weather station is located 1,835 m above sea level.\n",
    "\n",
    "To answer the question of \"When are skiers and snowboarders most likely to find fresh snow at Whistler?\" you will create a line plot with the date is on the x-axis and the total snow per day in centimetres (the column named `Total Snow cm` in the data file) on the y-axis. Given that we have data for two years (2017 & 2018), we will create one plot for each year to see if there is a trend we can observe across the two years."
   ]
  },
  {
   "cell_type": "markdown",
   "metadata": {
    "deletable": false,
    "editable": false,
    "nbgrader": {
     "cell_type": "markdown",
     "checksum": "b5aa29327fcb66de36fe37b99be6c628",
     "grade": false,
     "grade_id": "cell-e8f091bb368e39f1",
     "locked": true,
     "schema_version": 3,
     "solution": false
    }
   },
   "source": [
    "**Question 2.1** Multiple Choice: \n",
    "<br> {points: 1}\n",
    "\n",
    "What are we going to plot on the y-axis?\n",
    "\n",
    "A. total precipitation per day in centimetres\n",
    "\n",
    "B. total snow on the ground in centimetres\n",
    "\n",
    "C. total snow per day in centimetres\n",
    "\n",
    "D. total rain per day in centimetres\n",
    "\n",
    "*Assign your answer to an object called `answer2.1`. Make sure your answer is an uppercase letter and is surrounded by quotation marks (e.g. `\"F\"`).*"
   ]
  },
  {
   "cell_type": "code",
   "execution_count": null,
   "metadata": {
    "deletable": false,
    "nbgrader": {
     "cell_type": "code",
     "checksum": "13c19cc6b350850615972fbd78dc76b7",
     "grade": false,
     "grade_id": "cell-7c77b685f9f33b13",
     "locked": false,
     "schema_version": 3,
     "solution": true
    }
   },
   "outputs": [],
   "source": [
    "# Replace the fail() with your answer. \n",
    "\n",
    "# your code here\n",
    "fail() # No Answer - remove if you provide an answer"
   ]
  },
  {
   "cell_type": "code",
   "execution_count": null,
   "metadata": {
    "deletable": false,
    "editable": false,
    "nbgrader": {
     "cell_type": "code",
     "checksum": "7a620c56cdb695d0bf330f76849be1be",
     "grade": true,
     "grade_id": "cell-09cb9f902ccc6326",
     "locked": true,
     "points": 1,
     "schema_version": 3,
     "solution": false
    }
   },
   "outputs": [],
   "source": [
    "test_2.1()"
   ]
  },
  {
   "cell_type": "markdown",
   "metadata": {
    "deletable": false,
    "editable": false,
    "nbgrader": {
     "cell_type": "markdown",
     "checksum": "585590908306bfa9042ebf1e921d9a16",
     "grade": false,
     "grade_id": "cell-4f445b649edd0b2b",
     "locked": true,
     "schema_version": 3,
     "solution": false
    }
   },
   "source": [
    "**Question 2.2.0** \n",
    "<br> {points: 1}\n",
    "\n",
    "Read in the file named `eng-daily-01012018-12312018.csv` from the `data` directory. **Make sure you preview the file to choose the correct `read_*` function and argument values to get the data into R.** \n",
    "\n",
    "_Assign your data frame to an object called `whistler_2018`._\n",
    "\n",
    "*Note: You'll see a lot of entries of the form `NA`. This is the symbol R uses to denote missing data. Interestingly, you can do math and make comparisons with `NA`: for example,* `NA + 1 = NA`, `NA * 3 = NA`, `NA > 3 = NA`. *Most operations on `NA` return `NA`. This may seem a bit weird, but it makes things much simpler in R since it removes the need to write any special code to handle missing data!*"
   ]
  },
  {
   "cell_type": "code",
   "execution_count": null,
   "metadata": {
    "deletable": false,
    "nbgrader": {
     "cell_type": "code",
     "checksum": "a85a3dccaea3c0af37b317559742f57b",
     "grade": false,
     "grade_id": "cell-5eee09e838226892",
     "locked": false,
     "schema_version": 3,
     "solution": true
    }
   },
   "outputs": [],
   "source": [
    "# your code here\n",
    "fail() # No Answer - remove if you provide an answer\n",
    "whistler_2018"
   ]
  },
  {
   "cell_type": "code",
   "execution_count": null,
   "metadata": {
    "deletable": false,
    "editable": false,
    "nbgrader": {
     "cell_type": "code",
     "checksum": "efb4c7bfb03165d9279733da66021a7d",
     "grade": true,
     "grade_id": "cell-37bb46c77b5a6b65",
     "locked": true,
     "points": 1,
     "schema_version": 3,
     "solution": false
    }
   },
   "outputs": [],
   "source": [
    "test_2.2.0()"
   ]
  },
  {
   "cell_type": "markdown",
   "metadata": {
    "deletable": false,
    "editable": false,
    "nbgrader": {
     "cell_type": "markdown",
     "checksum": "f4efbc0bf4ea67821a218fc5532bf049",
     "grade": false,
     "grade_id": "cell-8a21bf6086ccf39e",
     "locked": true,
     "schema_version": 3,
     "solution": false
    }
   },
   "source": [
    "**Question 2.2.1** \n",
    "<br> {points: 1}\n",
    "\n",
    "Looking at the column names of the `whistler_2018` data frame, you can see we have white space in our column names again. Use `make.names` to remove the whitespace to make it easier to use our `tidyverse` functions."
   ]
  },
  {
   "cell_type": "code",
   "execution_count": null,
   "metadata": {
    "deletable": false,
    "nbgrader": {
     "cell_type": "code",
     "checksum": "d0d910d15df1d5b4c9948342f363d246",
     "grade": false,
     "grade_id": "cell-56ec4e8dbbff86e2",
     "locked": false,
     "schema_version": 3,
     "solution": true
    }
   },
   "outputs": [],
   "source": [
    "# your code here\n",
    "fail() # No Answer - remove if you provide an answer\n",
    "colnames(whistler_2018)"
   ]
  },
  {
   "cell_type": "code",
   "execution_count": null,
   "metadata": {
    "deletable": false,
    "editable": false,
    "nbgrader": {
     "cell_type": "code",
     "checksum": "4860b9d70d6f291ccdc17d86b7961737",
     "grade": true,
     "grade_id": "cell-a8623de117076f50",
     "locked": true,
     "points": 1,
     "schema_version": 3,
     "solution": false
    }
   },
   "outputs": [],
   "source": [
    "test_2.2.1()"
   ]
  },
  {
   "cell_type": "markdown",
   "metadata": {
    "deletable": false,
    "editable": false,
    "nbgrader": {
     "cell_type": "markdown",
     "checksum": "4326de8142131ae6db92ff372ef01698",
     "grade": false,
     "grade_id": "cell-ebc628786570051a",
     "locked": true,
     "schema_version": 3,
     "solution": false
    }
   },
   "source": [
    "**Question 2.3** \n",
    "<br> {points: 1}\n",
    "\n",
    "Create a line plot with the date on the x-axis and the total snow per day (in cm) on the y-axis by filling in the `...` in the code below. Ensure you give your axes human-readable labels.\n",
    "\n",
    "_Assign your plot to an object called `whistler_2018_plot`._"
   ]
  },
  {
   "cell_type": "code",
   "execution_count": null,
   "metadata": {
    "deletable": false,
    "nbgrader": {
     "cell_type": "code",
     "checksum": "8bee476d390d82d668a5ae3a3a3f22c7",
     "grade": false,
     "grade_id": "cell-2b5a4c01c5a8404d",
     "locked": false,
     "schema_version": 3,
     "solution": true
    }
   },
   "outputs": [],
   "source": [
    "options(repr.plot.width = 12, repr.plot.height = 5)\n",
    "\n",
    "# ... <- ggplot(..., aes(x = ..., y = ...)) + \n",
    "#     geom_line() +\n",
    "#     xlab(...) +\n",
    "#     ylab(...) +\n",
    "#     scale_x_date(date_breaks = \"1 month\") + # labels every month\n",
    "#     theme(axis.text.x = element_text(angle = 90, hjust = 1)) # rotates x axis labels to be vertical\n",
    "\n",
    "# your code here\n",
    "fail() # No Answer - remove if you provide an answer\n",
    "whistler_2018_plot"
   ]
  },
  {
   "cell_type": "code",
   "execution_count": null,
   "metadata": {
    "deletable": false,
    "editable": false,
    "nbgrader": {
     "cell_type": "code",
     "checksum": "04ce0c9907d682b7df7a9f88b523f708",
     "grade": true,
     "grade_id": "cell-7ba6c116f9f01fbf",
     "locked": true,
     "points": 1,
     "schema_version": 3,
     "solution": false
    }
   },
   "outputs": [],
   "source": [
    "test_2.3()"
   ]
  },
  {
   "cell_type": "markdown",
   "metadata": {
    "deletable": false,
    "editable": false,
    "nbgrader": {
     "cell_type": "markdown",
     "checksum": "9a05d9e80771970ce9d0ac6e85609c48",
     "grade": false,
     "grade_id": "cell-5ab30aff1ade6a29",
     "locked": true,
     "schema_version": 3,
     "solution": false
    }
   },
   "source": [
    "**Question 2.4** \n",
    "<br> {points: 3}\n",
    "\n",
    "Looking at the line plot above, for 2018, of the months when it snowed, which 2 months had the **most** fresh snow?"
   ]
  },
  {
   "cell_type": "markdown",
   "metadata": {
    "deletable": false,
    "nbgrader": {
     "cell_type": "markdown",
     "checksum": "baffe65b398f9d5c504ef17729e78b10",
     "grade": true,
     "grade_id": "cell-44413b023d2ed1cf",
     "locked": false,
     "points": 3,
     "schema_version": 3,
     "solution": true
    }
   },
   "source": [
    "DOUBLE CLICK TO EDIT **THIS CELL** AND REPLACE THIS TEXT WITH YOUR ANSWER."
   ]
  },
  {
   "cell_type": "markdown",
   "metadata": {
    "deletable": false,
    "editable": false,
    "nbgrader": {
     "cell_type": "markdown",
     "checksum": "9ed1528fd2c56a78c12b69da4cfcdcb6",
     "grade": false,
     "grade_id": "cell-f73cf8cfc5b9f8e8",
     "locked": true,
     "schema_version": 3,
     "solution": false
    }
   },
   "source": [
    "**Question 2.5**\n",
    "<br> {points: 3}\n",
    "\n",
    "Repeat the data loading and plot creation using the file `eng-daily-01012017-12312017.csv` located in the `data` directory to visualize the same data for the year 2017. \n",
    "\n",
    "_Assign your plot to an object called `whistler_2017_plot`._"
   ]
  },
  {
   "cell_type": "code",
   "execution_count": null,
   "metadata": {
    "deletable": false,
    "nbgrader": {
     "cell_type": "code",
     "checksum": "5ae8f6163a40e0641c0b7582013a66af",
     "grade": false,
     "grade_id": "cell-1b68857d927e3850",
     "locked": false,
     "schema_version": 3,
     "solution": true,
     "task": false
    }
   },
   "outputs": [],
   "source": [
    "# whistler_2017 <- ...\n",
    "# colnames(whistler_2017) <- colnames(whistler_2017) %>% make.names()\n",
    "\n",
    "# ... <- ggplot(..., aes(x = ..., y = ...)) + \n",
    "#    geom_line() + \n",
    "#    xlab(\"...\") + \n",
    "#    ylab(\"...\") +\n",
    "#    scale_x_date(date_breaks = \"1 month\") +\n",
    "#    theme(axis.text.x = element_text(angle = 90, hjust = 1)) + \n",
    "#    theme(text = element_text(size = 20))\n",
    "\n",
    "# your code here\n",
    "fail() # No Answer - remove if you provide an answer"
   ]
  },
  {
   "cell_type": "code",
   "execution_count": null,
   "metadata": {
    "deletable": false,
    "editable": false,
    "nbgrader": {
     "cell_type": "code",
     "checksum": "a940ba5a0a4bc5d0581fe3ce5a23cb18",
     "grade": true,
     "grade_id": "cell-d8721ca22c898b0c",
     "locked": true,
     "points": 3,
     "schema_version": 3,
     "solution": false,
     "task": false
    }
   },
   "outputs": [],
   "source": [
    "# Here we check whether you have the correct object name(s). However,\n",
    "# all other tests were intentionally hidden so that you can practice deciding \n",
    "# when you have the correct answer.\n",
    "test_that(\"Did not create an object named whistler_2017_plot\", {\n",
    "    expect_true(exists(\"whistler_2017_plot\")) \n",
    "})"
   ]
  },
  {
   "cell_type": "markdown",
   "metadata": {
    "deletable": false,
    "editable": false,
    "nbgrader": {
     "cell_type": "markdown",
     "checksum": "4a00b30b14e7ea68944846a87e71a8dc",
     "grade": false,
     "grade_id": "cell-8f8fcf9c0b810526",
     "locked": true,
     "schema_version": 3,
     "solution": false
    }
   },
   "source": [
    "**Question 2.6**\n",
    "<br> {points: 3}\n",
    "\n",
    "Looking at the line plot above, for 2017, of the months when it snowed, which 2 months had the **most** fresh snow?"
   ]
  },
  {
   "cell_type": "markdown",
   "metadata": {
    "deletable": false,
    "nbgrader": {
     "cell_type": "markdown",
     "checksum": "32633e9d0c06d2ca9e0ee22ad8ae171a",
     "grade": true,
     "grade_id": "cell-59326d3fb00de096",
     "locked": false,
     "points": 3,
     "schema_version": 3,
     "solution": true
    }
   },
   "source": [
    "DOUBLE CLICK TO EDIT **THIS CELL** AND REPLACE THIS TEXT WITH YOUR ANSWER."
   ]
  },
  {
   "cell_type": "markdown",
   "metadata": {
    "deletable": false,
    "editable": false,
    "nbgrader": {
     "cell_type": "markdown",
     "checksum": "a4b149e79417fe81fefa6610e05f101d",
     "grade": false,
     "grade_id": "cell-7ebf6c3f380f6308",
     "locked": true,
     "schema_version": 3,
     "solution": false,
     "task": false
    }
   },
   "source": [
    "**Question 2.7**\n",
    "<br> {points: 3}\n",
    "\n",
    "Are the months  with the most fresh snow the same in 2017 as they were in 2018? **Hint:** you might want to add a code cell where you plot the two plots right after each other so you can easily compare them in one screen view.\n",
    "\n",
    "You can combine two plots, one atop the other, by using the `plot_grid` function from the `cowplot` package:\n",
    "\n",
    "```\n",
    "library(cowplot)\n",
    "plot_grid(plot1, plot2, ncol = 1)\n",
    "```\n",
    "Is there any advantage of looking at 2 years worth of data? Why or why not?"
   ]
  },
  {
   "cell_type": "markdown",
   "metadata": {
    "deletable": false,
    "nbgrader": {
     "cell_type": "markdown",
     "checksum": "5dc1a5347c756d6fee899ea2fade9085",
     "grade": true,
     "grade_id": "cell-847225b6693679e1",
     "locked": false,
     "points": 3,
     "schema_version": 3,
     "solution": true,
     "task": false
    }
   },
   "source": [
    "DOUBLE CLICK TO EDIT **THIS CELL** AND REPLACE THIS TEXT WITH YOUR ANSWER."
   ]
  },
  {
   "cell_type": "markdown",
   "metadata": {
    "deletable": false,
    "editable": false,
    "nbgrader": {
     "cell_type": "markdown",
     "checksum": "91b710749bee2b814a82e4ce8f26e23c",
     "grade": false,
     "grade_id": "cell-7298c18efd74b404",
     "locked": true,
     "schema_version": 3,
     "solution": false,
     "task": false
    }
   },
   "source": [
    "## 3. Reading from a Database\n",
    "\n",
    "In `worksheet_02`, you'll recall that we opened a database stored in a `.db` file. This involved a lot more effort than just opening a `.csv`, `.tsv`, or any of the other plaintext / Excel formats. It was a bit of a pain to use a database in that setting since we had to use `dbplyr` to translate `tidyverse`-like commands (`filter`, `select`, etc.) into SQL commands that the database understands. We didn't run into this problem in the worksheet, but not _all_ `tidyverse` commands can currently be translated with SQLite databases. For example, with an SQLite database, we can compute a mean, but can't easily compute a median.\n",
    "\n",
    "**Why should we bother with databases at all then?**\n",
    "\n",
    "Databases become really useful in a large-scale setting:\n",
    "\n",
    "- they enable storing large datasets across multiple computers with automatic redundancy and backups\n",
    "- they enable multiple users to access them simultaneously and remotely without conflicts and errors \n",
    "- they provide mechanisms for ensuring data integrity and validating input\n",
    "- they provide security to keep data safe\n",
    "\n",
    "For example: there are around [4 billion](https://www.internetlivestats.com/google-search-statistics/) Google searches conducted daily as of 2019. Can you imagine if Google stored all of the data from those queries in a single `.csv` file!? Chaos would ensue. \n",
    "\n",
    "To reap the real benefits of databases, we'll need to move to a more fully-powered one: [PostgreSQL](https://www.postgresql.org/). We'll begin by loading the `DBI` and `dbplyr` packages that R uses to talk to databases, as well as the `RPostgres` package that provides the interface between these packages and PostgreSQL databases (note the similarity to the `RSQLite` package from `worksheet_02`)."
   ]
  },
  {
   "cell_type": "code",
   "execution_count": null,
   "metadata": {
    "deletable": false,
    "editable": false,
    "nbgrader": {
     "cell_type": "code",
     "checksum": "8877d90711149ee5e874e4bdf544bb1a",
     "grade": false,
     "grade_id": "cell-dcac0592a4863874",
     "locked": true,
     "schema_version": 3,
     "solution": false,
     "task": false
    }
   },
   "outputs": [],
   "source": [
    "### Run this cell before continuing. \n",
    "library(dbplyr)\n",
    "library(DBI)\n",
    "library(RPostgres)\n",
    "library(lubridate) # This package is used to convert different time/date formats."
   ]
  },
  {
   "cell_type": "markdown",
   "metadata": {
    "deletable": false,
    "editable": false,
    "nbgrader": {
     "cell_type": "markdown",
     "checksum": "6e1f3cafa5c7ea60e046e322a1077915",
     "grade": false,
     "grade_id": "cell-4993f5e803d8eb85",
     "locked": true,
     "schema_version": 3,
     "solution": false,
     "task": false
    }
   },
   "source": [
    "### Investigating Trends in Crowdfunding\n",
    "\n",
    "[Kickstarter](https://www.kickstarter.com/) is an online crowd-funding site where people can post projects they want to do, but don't have the financial resources required to fund the project on their own. Other users of Kickstarter can pledge money to the project (also called \"backing\" a project) to help the project become a reality. To persuade people to back a project, the project owner usually offers rewards to the \"backers\" for their help with funding, which they receive once funding reaches a particular amount.\n",
    "\n",
    "In this section, we'll investigate how the amount of funding successful projects get has changed over time. We consider a project to be successful if the amount of funds pledged exceeded the goal."
   ]
  },
  {
   "cell_type": "markdown",
   "metadata": {
    "deletable": false,
    "editable": false,
    "nbgrader": {
     "cell_type": "markdown",
     "checksum": "571d63a017007e1fc582ea043e5b3c78",
     "grade": false,
     "grade_id": "cell-76ec1abec0ab4266",
     "locked": true,
     "schema_version": 3,
     "solution": false,
     "task": false
    }
   },
   "source": [
    "**Question 3.0**\n",
    "<br>{points: 1}\n",
    "\n",
    "Databases are often stored *remotely* (i.e., not on your computer or on this JupyterHub). Your first task is to load the Kickstarter data from a PostgreSQL database stored remotely on the UBC statistics network.\n",
    "\n",
    "\n",
    "URL: `\"dsci-100-student.stat.ubc.ca\"`\n",
    "\n",
    "Port: `5432`\n",
    "\n",
    "Username: `\"dsci100\"`\n",
    "\n",
    "Password: `\"dsci100\"`\n",
    "\n",
    "Database Name: `\"kickstarter\"`\n",
    "\n",
    "Table Name: `\"projects\"`\n",
    "\n",
    "We've provided the code to do this below. Replace each `...` with one of the 5 above items. \n",
    "\n",
    "*Note 1: Due to the UBC firewall, to get this to work you'll need to be connected to the UBC network or use the UBC VPN. For instructions on how to connect to UBC's VPN service, see [this webpage on UBC's IT website](https://it.ubc.ca/services/email-voice-internet/myvpn/setup-documents#setup).*\n",
    "\n",
    "*Note 2: As this database will be used by the entire class, you will only have read access (no write permissions).*\n",
    "\n",
    "*Assign the resulting database connection object to* `connection` *and the project table data to* `project_data`."
   ]
  },
  {
   "cell_type": "code",
   "execution_count": null,
   "metadata": {
    "deletable": false,
    "nbgrader": {
     "cell_type": "code",
     "checksum": "2d7c087c391b6ff691a3f06cba93228e",
     "grade": false,
     "grade_id": "cell-3e77056f0b0ee8f6",
     "locked": false,
     "schema_version": 3,
     "solution": true,
     "task": false
    }
   },
   "outputs": [],
   "source": [
    "# ... <- dbConnect(RPostgres::Postgres(), dbname = ...,\n",
    "#                 host = ..., port = 5432,\n",
    "#                 user = ..., password = ...)\n",
    "# ... <- tbl(connection, ...)\n",
    "\n",
    "# your code here\n",
    "fail() # No Answer - remove if you provide an answer"
   ]
  },
  {
   "cell_type": "code",
   "execution_count": null,
   "metadata": {
    "deletable": false,
    "editable": false,
    "nbgrader": {
     "cell_type": "code",
     "checksum": "433e265d72bc1e5589fab13bbe47206a",
     "grade": true,
     "grade_id": "cell-43c8f02a1912363c",
     "locked": true,
     "points": 1,
     "schema_version": 3,
     "solution": false,
     "task": false
    }
   },
   "outputs": [],
   "source": [
    "test_3.0()"
   ]
  },
  {
   "cell_type": "markdown",
   "metadata": {
    "deletable": false,
    "editable": false,
    "nbgrader": {
     "cell_type": "markdown",
     "checksum": "8fe72eee4fb5a0aa17aec291e5ddc115",
     "grade": false,
     "grade_id": "cell-c5ed50cf12263f47",
     "locked": true,
     "schema_version": 3,
     "solution": false,
     "task": false
    }
   },
   "source": [
    "We can now use the `colnames` function to see what columns are available in the `project_data` table."
   ]
  },
  {
   "cell_type": "code",
   "execution_count": null,
   "metadata": {
    "deletable": false,
    "editable": false,
    "nbgrader": {
     "cell_type": "code",
     "checksum": "15823b9378749b54134787fa2e70fd64",
     "grade": false,
     "grade_id": "cell-a35dbfe198fe2c2a",
     "locked": true,
     "schema_version": 3,
     "solution": false,
     "task": false
    }
   },
   "outputs": [],
   "source": [
    "colnames(project_data)"
   ]
  },
  {
   "cell_type": "markdown",
   "metadata": {
    "deletable": false,
    "editable": false,
    "nbgrader": {
     "cell_type": "markdown",
     "checksum": "fdcb6eca891987f9079d33722dce5643",
     "grade": false,
     "grade_id": "cell-f87359c9820b0244",
     "locked": true,
     "schema_version": 3,
     "solution": false,
     "task": false
    }
   },
   "source": [
    "**Question 3.1**\n",
    "<br> {points: 1}\n",
    "\n",
    "If we want to plot compare pledged and goal amounts of funding over time for successful projects in the United States, which columns should we `select` from the table?\n",
    "\n",
    "A. `id`, `slug`, `pledged`\n",
    "\n",
    "B. `pledged`, `goal`, `deadline`, `country`\n",
    "\n",
    "C. `pledged`, `usd_pledged`, `location_id`\n",
    "\n",
    "D. `currency`, `state`, `country`, `goal`\n",
    "\n",
    "_Assign your answer to an object called `answer3.1`. Make sure your answer is an uppercase letter and is surrounded by quotation marks (e.g. `\"F\"`)._"
   ]
  },
  {
   "cell_type": "code",
   "execution_count": null,
   "metadata": {
    "deletable": false,
    "nbgrader": {
     "cell_type": "code",
     "checksum": "b5aa4809abc6c8a315a125e39f16af7d",
     "grade": false,
     "grade_id": "cell-9eb0609ab7bd4c24",
     "locked": false,
     "schema_version": 3,
     "solution": true,
     "task": false
    }
   },
   "outputs": [],
   "source": [
    "# your code here\n",
    "fail() # No Answer - remove if you provide an answer"
   ]
  },
  {
   "cell_type": "code",
   "execution_count": null,
   "metadata": {
    "deletable": false,
    "editable": false,
    "nbgrader": {
     "cell_type": "code",
     "checksum": "3f2d00efd44b31677c7435464503fe8f",
     "grade": true,
     "grade_id": "cell-c984d14fba25881a",
     "locked": true,
     "points": 1,
     "schema_version": 3,
     "solution": false,
     "task": false
    }
   },
   "outputs": [],
   "source": [
    "test_3.1()"
   ]
  },
  {
   "cell_type": "markdown",
   "metadata": {
    "deletable": false,
    "editable": false,
    "nbgrader": {
     "cell_type": "markdown",
     "checksum": "c7bb96eadf96d11a7d2265976a277a19",
     "grade": false,
     "grade_id": "cell-ffe5e8d830e11e01",
     "locked": true,
     "schema_version": 3,
     "solution": false,
     "task": false
    }
   },
   "source": [
    "**Question 3.2**\n",
    "<br> {points: 1}\n",
    "\n",
    "Now we'll visualize the data. In order to do this, we need to take the correct subset of data from the table and use `ggplot` to plot the result. Note that we make the scatter plot slightly transparent (using `alpha = 0.01` in the code below) because there is so much data that it would otherwise be hard to see anything (*overplotting*).\n",
    "\n",
    "In the below cell, you'll see some lines of code (currently commented out with `#` characters). **Remove the comments and rearrange these lines of code** to plot the ratio of pledged and goal funding as a function of project deadline date for all successful (where pledged funding is greater than goal funding) projects in the United States in the dataset.\n",
    "\n",
    "*Note: there is a lot of data to plot here, so give it a moment to display!*\n",
    "\n",
    "*Hint: you'll want to put all the dataframe manipulation functions first, and then the plotting functions afterward. Also note that some lines have a `+` at the end, meaning they're in the middle of the plotting code!*\n"
   ]
  },
  {
   "cell_type": "code",
   "execution_count": null,
   "metadata": {
    "deletable": false,
    "nbgrader": {
     "cell_type": "code",
     "checksum": "4584a143fe6d1bf1854ad24fb2148492",
     "grade": false,
     "grade_id": "cell-9ec0312afc478428",
     "locked": false,
     "schema_version": 3,
     "solution": true,
     "task": false
    }
   },
   "outputs": [],
   "source": [
    "#     geom_point(alpha = 0.01) +\n",
    "# funding_over_time_plot <- ggplot(prj, aes(x = as_datetime(deadline), y = pledged / goal)) +\n",
    "#     ylab('Pledged Funding / Goal Funding')\n",
    "# prj <- filter(prj_unfiltered, pledged > goal & country == \"US\")\n",
    "#     scale_y_continuous(trans = 'log10', breaks = c(1, 10, 100, 1000)) +\n",
    "#     xlab('Date') +\n",
    "#     theme(panel.grid.major = element_blank(), panel.grid.minor = element_blank()) +\n",
    "# prj_unfiltered <- select(project_data, 'deadline', 'pledged', 'goal', 'country')\n",
    "\n",
    "# your code here\n",
    "fail() # No Answer - remove if you provide an answer"
   ]
  },
  {
   "cell_type": "code",
   "execution_count": null,
   "metadata": {
    "deletable": false,
    "editable": false,
    "nbgrader": {
     "cell_type": "code",
     "checksum": "5d3d489b13cbb87bfa378655d841cdf9",
     "grade": true,
     "grade_id": "cell-52e8a2b1e3010e05",
     "locked": true,
     "points": 1,
     "schema_version": 3,
     "solution": false,
     "task": false
    }
   },
   "outputs": [],
   "source": [
    "test_3.2()"
   ]
  },
  {
   "cell_type": "markdown",
   "metadata": {
    "deletable": false,
    "editable": false,
    "nbgrader": {
     "cell_type": "markdown",
     "checksum": "7c307ae05ded7d44c276b5e75ca11395",
     "grade": false,
     "grade_id": "cell-6924d6750738281e",
     "locked": true,
     "schema_version": 3,
     "solution": false,
     "task": false
    }
   },
   "source": [
    "**Question 3.3**\n",
    "<br> {points: 3}\n",
    "\n",
    "Is there a relationship between the ratio of pledged/goal funding and time? If so, describe it. \n",
    "\n",
    "Additionally, mention a pattern in the data or a characteristic of it that you may not have expected in advance."
   ]
  },
  {
   "cell_type": "markdown",
   "metadata": {
    "deletable": false,
    "nbgrader": {
     "cell_type": "markdown",
     "checksum": "f8a415075c26b9ec7d44b647d57d9087",
     "grade": true,
     "grade_id": "cell-7e7c080ca369e735",
     "locked": false,
     "points": 3,
     "schema_version": 3,
     "solution": true,
     "task": false
    }
   },
   "source": [
    "DOUBLE CLICK TO EDIT **THIS CELL** AND REPLACE THIS TEXT WITH YOUR ANSWER."
   ]
  },
  {
   "cell_type": "markdown",
   "metadata": {
    "deletable": false,
    "editable": false,
    "nbgrader": {
     "cell_type": "markdown",
     "checksum": "defeb7dec006b35555bd303566762cf3",
     "grade": false,
     "grade_id": "cell-b4092fe897ccd0f2",
     "locked": true,
     "schema_version": 3,
     "solution": false,
     "task": false
    }
   },
   "source": [
    "**Question 3.4**\n",
    "<br> {points: 1}\n",
    "\n",
    "Finally, we'll save the project data to a local file in the `data/` folder called `project_data.csv`. Recall that we don't want to try to download and save the *entire dataset* (way too much data!) from the database, but only the `tbl` object named `prj`. So you will need to use the `collect` function followed by the appropriate `write_*` function.\n",
    "\n",
    "*Assign the output of collect to an object called `project_df`*"
   ]
  },
  {
   "cell_type": "code",
   "execution_count": null,
   "metadata": {
    "deletable": false,
    "nbgrader": {
     "cell_type": "code",
     "checksum": "1625b7b4b77ad629af04b19f8a4f88f3",
     "grade": false,
     "grade_id": "cell-d9df612336bc209a",
     "locked": false,
     "schema_version": 3,
     "solution": true,
     "task": false
    }
   },
   "outputs": [],
   "source": [
    "# your code here\n",
    "fail() # No Answer - remove if you provide an answer"
   ]
  },
  {
   "cell_type": "code",
   "execution_count": null,
   "metadata": {
    "deletable": false,
    "editable": false,
    "nbgrader": {
     "cell_type": "code",
     "checksum": "bd0e7e3f439d42e7862c2a509e175768",
     "grade": true,
     "grade_id": "cell-38725218bfd3fa34",
     "locked": true,
     "points": 1,
     "schema_version": 3,
     "solution": false,
     "task": false
    }
   },
   "outputs": [],
   "source": [
    "test_3.4()"
   ]
  },
  {
   "cell_type": "markdown",
   "metadata": {
    "deletable": false,
    "editable": false,
    "nbgrader": {
     "cell_type": "markdown",
     "checksum": "2a4e9b8c9c81ffa00ddb544955ba3a76",
     "grade": false,
     "grade_id": "cell-c3a172ed85763db9",
     "locked": true,
     "schema_version": 3,
     "solution": false
    }
   },
   "source": [
    "## 4 (Optional). Reading Data from the Internet\n",
    "\n",
    "**Question 4.0**\n",
    "<br> {points: 0}\n",
    "\n",
    "More practice scraping! To keep ourselves out of legal hot water, we will get more practice scraping data using a website that was created for that purpose: http://books.toscrape.com/\n",
    "\n",
    "Your task here is to scrape the prices of the science fiction novels on [this page](http://books.toscrape.com/catalogue/category/books/science-fiction_16/index.html) and determine the maximum, minimum and average price of science fiction novels at this bookstore. Tidy up and nicely present your results by creating a data frame called `sci_fi_stats` that has 2 columns, one called `stats` that contains the words `max`, `min` and `mean` and once called `value` that contains the calculated value for each of these.\n",
    "\n",
    "The functions for maximum, minimum and average in R are listed in the table below:\n",
    "\n",
    "| Calculation to perform | Function in R |\n",
    "| ---------------------- | ------------- |\n",
    "| maximum                | `max`         |\n",
    "| minimum                | `min`         |\n",
    "| average                | `mean`        |\n",
    "\n",
    "Some other helpful hints:\n",
    "- If you end up scraping some characters other than numbers you will have to use `str_replace_all` from the `stringr` library to remove them (similar to what we did with the commas in worksheet_02).\n",
    "- Use `as.numeric` to convert your character type numbers to numeric type numbers before you pass them into the `max`, `min` and `mean` functions.\n",
    "- If you have `NA` values in your objects that you need to pass into the `max`, `min` and `mean` functions, you will need to set the `na.rm` argument in these functions to `TRUE`.\n",
    "- use the function `c` to create the vectors that will go in your data frame, for example, to create a vector with the values 10, 16 and 13 named ages, we would type: `ages <- c(10, 16, 13)`.\n",
    "- use the function `tibble` to create the data frame from your vectors."
   ]
  },
  {
   "cell_type": "code",
   "execution_count": null,
   "metadata": {
    "deletable": false,
    "nbgrader": {
     "cell_type": "code",
     "checksum": "352e7a1c221b99197217287743423b4a",
     "grade": true,
     "grade_id": "cell-cdd2ec3a736e9ec0",
     "locked": false,
     "points": 0,
     "schema_version": 3,
     "solution": true,
     "task": false
    }
   },
   "outputs": [],
   "source": [
    "# your code here\n",
    "fail() # No Answer - remove if you provide an answer\n",
    "sci_fi_stats"
   ]
  },
  {
   "cell_type": "markdown",
   "metadata": {
    "deletable": false,
    "editable": false,
    "nbgrader": {
     "cell_type": "markdown",
     "checksum": "c2c9da816b63c91f19d98f771bd404e5",
     "grade": false,
     "grade_id": "cell-13d529c24ab24f75",
     "locked": true,
     "schema_version": 3,
     "solution": false
    }
   },
   "source": [
    "**Question 4.1**\n",
    "<br> {points: 0}\n",
    "\n",
    "In `worksheet_02` you had practice scraping data from the web. Now that you have the skills, should you scrape that website you have been dreaming of harvesting data from? Maybe, maybe not... You should check the website's Terms of Service first and consider the application you have planned for the data after you scrape it.\n",
    "\n",
    "List 3 websites you might be interested in scraping data from (for fun, profit, or research/education). List their URLs as part of your answer. For each website, search for their Terms of Service page. Take note if such a page exists, and if it does, provide the link to it and tell us whether or not they allow web scraping of their website."
   ]
  },
  {
   "cell_type": "markdown",
   "metadata": {
    "deletable": false,
    "nbgrader": {
     "cell_type": "markdown",
     "checksum": "7f5786efab213c84bc59510ca9c17a72",
     "grade": true,
     "grade_id": "cell-2ac9674598efb69a",
     "locked": false,
     "points": 0,
     "schema_version": 3,
     "solution": true
    }
   },
   "source": [
    "DOUBLE CLICK TO EDIT **THIS CELL** AND REPLACE THIS TEXT WITH YOUR ANSWER."
   ]
  },
  {
   "cell_type": "markdown",
   "metadata": {
    "deletable": false,
    "editable": false,
    "nbgrader": {
     "cell_type": "markdown",
     "checksum": "14dec927f877ea01324d2d7d37cf5b1b",
     "grade": false,
     "grade_id": "cell-902d3d49c93b4eac",
     "locked": true,
     "schema_version": 3,
     "solution": false,
     "task": false
    }
   },
   "source": [
    "### Bonus/optional additional readings on legalities of web scraping:\n",
    "\n",
    "Here are two recent news stories about web scraping and their legal implications:\n",
    "\n",
    "- [D.C. Court: Accessing Public Information is Not a Computer Crime](https://www.eff.org/deeplinks/2018/04/dc-court-accessing-public-information-not-computer-crime)\n",
    "\n",
    "- [Dear Canada: Accessing Publicly Available Information on the Internet Is Not a Crime](https://www.eff.org/deeplinks/2018/04/dear-canada-accessing-publicly-available-information-internet-not-crime)"
   ]
  },
  {
   "cell_type": "code",
   "execution_count": null,
   "metadata": {
    "deletable": false,
    "editable": false,
    "nbgrader": {
     "cell_type": "code",
     "checksum": "e4f64ca56557f8aa8d15af73a08d2508",
     "grade": false,
     "grade_id": "cell-4d35a9e96ab52622",
     "locked": true,
     "schema_version": 3,
     "solution": false,
     "task": false
    }
   },
   "outputs": [],
   "source": [
    "source(\"cleanup_tutorial_02.R\")"
   ]
  }
 ],
 "metadata": {
  "kernelspec": {
   "display_name": "R",
   "language": "R",
   "name": "ir"
  },
  "language_info": {
   "codemirror_mode": "r",
   "file_extension": ".r",
   "mimetype": "text/x-r-source",
   "name": "R",
   "pygments_lexer": "r",
   "version": "4.0.0"
  }
 },
 "nbformat": 4,
 "nbformat_minor": 2
}
